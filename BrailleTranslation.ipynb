{
  "cells": [
    {
      "cell_type": "markdown",
      "metadata": {
        "id": "view-in-github",
        "colab_type": "text"
      },
      "source": [
        "<a href=\"https://colab.research.google.com/github/Kim-Jong-Gyu/AI-teamProject-brailleTranslation/blob/main/BrailleTranslation.ipynb\" target=\"_parent\"><img src=\"https://colab.research.google.com/assets/colab-badge.svg\" alt=\"Open In Colab\"/></a>"
      ]
    },
    {
      "cell_type": "markdown",
      "source": [
        "***\n",
        "# AI Team Project\n",
        "## 16102269 Kim Jong Gyu\n",
        "## 19102095 Lee Do Hui\n",
        "***\n",
        "\n",
        "# **1. Motivation For The Proeject**\n",
        "# **2. Problem Description**\n",
        "# **3. Data Description**\n",
        "* Braille Characteristics\n",
        "  * Braille should basically have six points placed at equal intervals.\n",
        "  * Braille should not be inverted too much (less than 90 degree).\n",
        "  * Spaces should be written at regular intervals.\n",
        "* Kaggle Data\n",
        "  * Problems\n",
        "  \n",
        "     <img src = \"https://drive.google.com/uc?id=1VeUkM0AQPdw3uxnFWUu8bq5vyGjoeKef\" height = 300 width = 500>\n",
        "    \n",
        "    * There are pictures with a rotation of more than 90 degrees and indistinguishable. \n",
        "    \n",
        "    <img src = \"https://drive.google.com/uc?id=1UQ8jsegwxsHsrih4eBFWJR3wS4a66JgO\" height = 300 width = 500>\n",
        "\n",
        "    * Only alphabets are used except for special characters.\n",
        "\n",
        "* **Actual data used**\n",
        "  * We make dataset by drawing it ourselves using PPT.\n",
        "\n",
        "    <img src = \"https://drive.google.com/uc?id=1ZunHu0KumEkiVuFcUvJGYG2cIHza_Vw3\" height = 300 width = 500>\n",
        "  \n",
        "  * **Actual data**\n",
        "  \n",
        "    <img src = \"https://drive.google.com/uc?id=1Kwm0NxQTKBNKQ4Z-Gau56bMnLlWFF948\" height = 300 width = 500>\n",
        "\n",
        "# **4. Model Architecture**\n"
      ],
      "metadata": {
        "id": "Rgt0rdJzzD5E"
      },
      "id": "Rgt0rdJzzD5E"
    },
    {
      "cell_type": "markdown",
      "source": [
        "# **5. Implementation Detail**"
      ],
      "metadata": {
        "id": "s5xwI-BMYt4i"
      },
      "id": "s5xwI-BMYt4i"
    },
    {
      "cell_type": "markdown",
      "source": [
        "# **5.1 First Model**\n",
        "* Firstly, we detected simple convnet model using Kaggle Data\n",
        "\n"
      ],
      "metadata": {
        "id": "yRraHnPme_uK"
      },
      "id": "yRraHnPme_uK"
    },
    {
      "cell_type": "code",
      "source": [
        "from google.colab import drive\n",
        "\n",
        "drive.mount('/content/gdrive')\n"
      ],
      "metadata": {
        "colab": {
          "base_uri": "https://localhost:8080/"
        },
        "id": "Da3_Dktt3fZ7",
        "outputId": "008189a2-89e2-4fca-eb31-7117a8076dc8"
      },
      "id": "Da3_Dktt3fZ7",
      "execution_count": 1,
      "outputs": [
        {
          "output_type": "stream",
          "name": "stdout",
          "text": [
            "Mounted at /content/gdrive\n"
          ]
        }
      ]
    },
    {
      "cell_type": "code",
      "source": [
        "import os\n",
        "\n",
        "file_path = '/content/drive/MyDrive/AI_TeamProject/AI-teamProject-brailleTranslation'\n",
        "\n",
        "def createFolder(directory):\n",
        "      if not os.path.exists(directory):\n",
        "          os.makedirs(directory)\n"
      ],
      "metadata": {
        "id": "jpxtSLW9jG_6"
      },
      "id": "jpxtSLW9jG_6",
      "execution_count": 10,
      "outputs": []
    },
    {
      "cell_type": "code",
      "source": [
        "import os\n",
        "import numpy as np\n",
        "import pandas as pd\n",
        "from shutil import copyfile\n",
        "\n",
        "dir = '/content/gdrive/MyDrive/AI_TeamProject/AI-teamProject-brailleTranslation/'\n",
        "createFolder(dir + 'existing_dataset/')\n",
        "alpha = 'a'\n",
        "for i in range(0, 26): \n",
        "    createFolder(dir+ 'existing_dataset/' + alpha)\n",
        "    alpha = chr(ord(alpha) + 1)\n",
        "\n",
        "rootdir = '/content/gdrive/MyDrive/AI_TeamProject/AI-teamProject-brailleTranslation/Braille Dataset/Braille Dataset/'\n",
        "\n",
        "for file in os.listdir(rootdir):\n",
        "    letter = file[0]\n",
        "    copyfile(rootdir+file, dir + 'existing_dataset/' + letter + '/' + file) "
      ],
      "metadata": {
        "id": "wOcIBsvW1hQz"
      },
      "id": "wOcIBsvW1hQz",
      "execution_count": 13,
      "outputs": []
    },
    {
      "cell_type": "code",
      "source": [
        "from keras.preprocessing.image import ImageDataGenerator\n",
        "\n",
        "prev_img_dir = \"/content/gdrive/MyDrive/AI_TeamProject/AI-teamProject-brailleTranslation/existing_dataset/\"\n",
        "\n",
        "datagen = ImageDataGenerator(rotation_range=20,\n",
        "                             shear_range=10,\n",
        "                             validation_split=0.2)\n",
        "\n",
        "train_generator = datagen.flow_from_directory(prev_img_dir,\n",
        "                                              target_size=(28,28),\n",
        "                                              subset='training')\n",
        "\n",
        "val_generator = datagen.flow_from_directory(prev_img_dir,\n",
        "                                            target_size=(28,28),\n",
        "                                            subset='validation')"
      ],
      "metadata": {
        "colab": {
          "base_uri": "https://localhost:8080/"
        },
        "id": "AJGUN92g5xt_",
        "outputId": "9a6a0bae-8db2-4065-f5d0-e8b352070d37"
      },
      "id": "AJGUN92g5xt_",
      "execution_count": 26,
      "outputs": [
        {
          "output_type": "stream",
          "name": "stdout",
          "text": [
            "Found 1248 images belonging to 26 classes.\n",
            "Found 312 images belonging to 26 classes.\n"
          ]
        }
      ]
    },
    {
      "cell_type": "code",
      "source": [
        "#Simple convnet\n",
        "\n",
        "from tensorflow.keras import layers\n",
        "from tensorflow.keras import models\n",
        "from keras.callbacks import ModelCheckpoint,ReduceLROnPlateau,EarlyStopping\n",
        "\n",
        "\n",
        "def Make_simple_model(train,val):\n",
        "  model = models.Sequential()\n",
        "  path = \"/content/gdrive/MyDrive/AI_TeamProject/AI-teamProject-brailleTranslation/\"\n",
        "  model_ckpt = ModelCheckpoint(path+'BrailleNet_simple.h5',save_best_only=True)\n",
        "  model.add(layers.Conv2D(32, (3, 3), activation='relu', input_shape=(28,28, 3))) \n",
        "  model.add(layers.MaxPooling2D((2, 2))) \n",
        "  model.add(layers.Conv2D(64, (3, 3), activation='relu')) \n",
        "  model.add(layers.MaxPooling2D((2, 2))) \n",
        "  model.add(layers.Conv2D(64, (3, 3), activation='relu'))\n",
        "  model.add(layers.Flatten())\n",
        "  model.add(layers.Dense(64, activation='relu'))\n",
        "  model.add(layers.Dense(26, activation='softmax'))\n",
        "  model.compile(loss='categorical_crossentropy',optimizer='adam',metrics=['accuracy'])\n",
        "  history = model.fit_generator(train,\n",
        "                              epochs=30,\n",
        "                              callbacks=[model_ckpt],\n",
        "                              validation_data=val)\n",
        "  return history"
      ],
      "metadata": {
        "id": "rfvMVha4fqp6"
      },
      "id": "rfvMVha4fqp6",
      "execution_count": 36,
      "outputs": []
    },
    {
      "cell_type": "code",
      "source": [
        "history_simple = Make_simple_model(train_generator,val_generator)"
      ],
      "metadata": {
        "colab": {
          "base_uri": "https://localhost:8080/"
        },
        "id": "xO0xlUBTk-Gj",
        "outputId": "8f6504b4-9ddf-4f9a-f065-443a9743eb55"
      },
      "id": "xO0xlUBTk-Gj",
      "execution_count": 37,
      "outputs": [
        {
          "output_type": "stream",
          "name": "stdout",
          "text": [
            "Epoch 1/30\n"
          ]
        },
        {
          "output_type": "stream",
          "name": "stderr",
          "text": [
            "<ipython-input-36-f2b11bbf3d7f>:21: UserWarning: `Model.fit_generator` is deprecated and will be removed in a future version. Please use `Model.fit`, which supports generators.\n",
            "  history = model.fit_generator(train,\n"
          ]
        },
        {
          "output_type": "stream",
          "name": "stdout",
          "text": [
            "39/39 [==============================] - 3s 78ms/step - loss: 12.3055 - accuracy: 0.0433 - val_loss: 3.2981 - val_accuracy: 0.0417\n",
            "Epoch 2/30\n",
            "39/39 [==============================] - 3s 90ms/step - loss: 3.2655 - accuracy: 0.0689 - val_loss: 3.1821 - val_accuracy: 0.1250\n",
            "Epoch 3/30\n",
            "39/39 [==============================] - 4s 104ms/step - loss: 3.1800 - accuracy: 0.0978 - val_loss: 3.0927 - val_accuracy: 0.1282\n",
            "Epoch 4/30\n",
            "39/39 [==============================] - 3s 73ms/step - loss: 2.9294 - accuracy: 0.1819 - val_loss: 2.7246 - val_accuracy: 0.2532\n",
            "Epoch 5/30\n",
            "39/39 [==============================] - 3s 75ms/step - loss: 2.5441 - accuracy: 0.2748 - val_loss: 2.3409 - val_accuracy: 0.2788\n",
            "Epoch 6/30\n",
            "39/39 [==============================] - 3s 74ms/step - loss: 2.2010 - accuracy: 0.3638 - val_loss: 2.0850 - val_accuracy: 0.4295\n",
            "Epoch 7/30\n",
            "39/39 [==============================] - 3s 76ms/step - loss: 1.9205 - accuracy: 0.4543 - val_loss: 1.6797 - val_accuracy: 0.5385\n",
            "Epoch 8/30\n",
            "39/39 [==============================] - 3s 81ms/step - loss: 1.7135 - accuracy: 0.5296 - val_loss: 1.6072 - val_accuracy: 0.5673\n",
            "Epoch 9/30\n",
            "39/39 [==============================] - 3s 75ms/step - loss: 1.4596 - accuracy: 0.5857 - val_loss: 1.2390 - val_accuracy: 0.6859\n",
            "Epoch 10/30\n",
            "39/39 [==============================] - 3s 73ms/step - loss: 1.2635 - accuracy: 0.6418 - val_loss: 1.3456 - val_accuracy: 0.6538\n",
            "Epoch 11/30\n",
            "39/39 [==============================] - 3s 74ms/step - loss: 1.2114 - accuracy: 0.6603 - val_loss: 1.0837 - val_accuracy: 0.6987\n",
            "Epoch 12/30\n",
            "39/39 [==============================] - 3s 76ms/step - loss: 1.1408 - accuracy: 0.6819 - val_loss: 1.0471 - val_accuracy: 0.7308\n",
            "Epoch 13/30\n",
            "39/39 [==============================] - 3s 80ms/step - loss: 1.0030 - accuracy: 0.7027 - val_loss: 1.1413 - val_accuracy: 0.7179\n",
            "Epoch 14/30\n",
            "39/39 [==============================] - 3s 86ms/step - loss: 0.8277 - accuracy: 0.7652 - val_loss: 0.9609 - val_accuracy: 0.7372\n",
            "Epoch 15/30\n",
            "39/39 [==============================] - 3s 75ms/step - loss: 0.7761 - accuracy: 0.7812 - val_loss: 1.0080 - val_accuracy: 0.7468\n",
            "Epoch 16/30\n",
            "39/39 [==============================] - 3s 76ms/step - loss: 0.7203 - accuracy: 0.7893 - val_loss: 0.8894 - val_accuracy: 0.7853\n",
            "Epoch 17/30\n",
            "39/39 [==============================] - 3s 77ms/step - loss: 0.7053 - accuracy: 0.7869 - val_loss: 0.8920 - val_accuracy: 0.7756\n",
            "Epoch 18/30\n",
            "39/39 [==============================] - 3s 75ms/step - loss: 0.6156 - accuracy: 0.8237 - val_loss: 0.7644 - val_accuracy: 0.8173\n",
            "Epoch 19/30\n",
            "39/39 [==============================] - 3s 75ms/step - loss: 0.5667 - accuracy: 0.8381 - val_loss: 0.7808 - val_accuracy: 0.8109\n",
            "Epoch 20/30\n",
            "39/39 [==============================] - 3s 76ms/step - loss: 0.5207 - accuracy: 0.8478 - val_loss: 0.7847 - val_accuracy: 0.7949\n",
            "Epoch 21/30\n",
            "39/39 [==============================] - 5s 125ms/step - loss: 0.5161 - accuracy: 0.8397 - val_loss: 0.7384 - val_accuracy: 0.8045\n",
            "Epoch 22/30\n",
            "39/39 [==============================] - 3s 74ms/step - loss: 0.5053 - accuracy: 0.8542 - val_loss: 0.7584 - val_accuracy: 0.8109\n",
            "Epoch 23/30\n",
            "39/39 [==============================] - 3s 73ms/step - loss: 0.4406 - accuracy: 0.8574 - val_loss: 0.9375 - val_accuracy: 0.8141\n",
            "Epoch 24/30\n",
            "39/39 [==============================] - 3s 76ms/step - loss: 0.3970 - accuracy: 0.8790 - val_loss: 0.7793 - val_accuracy: 0.8333\n",
            "Epoch 25/30\n",
            "39/39 [==============================] - 3s 75ms/step - loss: 0.3567 - accuracy: 0.8870 - val_loss: 0.8869 - val_accuracy: 0.8205\n",
            "Epoch 26/30\n",
            "39/39 [==============================] - 3s 77ms/step - loss: 0.3996 - accuracy: 0.8838 - val_loss: 0.7416 - val_accuracy: 0.8333\n",
            "Epoch 27/30\n",
            "39/39 [==============================] - 3s 75ms/step - loss: 0.3259 - accuracy: 0.9006 - val_loss: 0.8782 - val_accuracy: 0.8141\n",
            "Epoch 28/30\n",
            "39/39 [==============================] - 3s 74ms/step - loss: 0.3153 - accuracy: 0.9014 - val_loss: 0.8510 - val_accuracy: 0.8333\n",
            "Epoch 29/30\n",
            "39/39 [==============================] - 3s 73ms/step - loss: 0.3454 - accuracy: 0.8934 - val_loss: 0.7488 - val_accuracy: 0.8397\n",
            "Epoch 30/30\n",
            "39/39 [==============================] - 3s 74ms/step - loss: 0.3186 - accuracy: 0.9054 - val_loss: 0.8257 - val_accuracy: 0.8397\n"
          ]
        }
      ]
    },
    {
      "cell_type": "markdown",
      "source": [
        "### **First model visualize assessment results**\n",
        "\n"
      ],
      "metadata": {
        "id": "dD8qwc8frAJx"
      },
      "id": "dD8qwc8frAJx"
    },
    {
      "cell_type": "code",
      "source": [
        "def print_acc_loss(history):\n",
        "    # 평가 결과 도식화\n",
        "    import matplotlib.pyplot as plt\n",
        "    fig, loss_ax = plt.subplots(figsize=(10, 5))\n",
        "    acc_ax = loss_ax.twinx()\n",
        "    loss_ax.plot(history.history['loss'], 'y', label='train loss')\n",
        "    loss_ax.plot(history.history['val_loss'], 'r', label='val loss')\n",
        "    acc_ax.plot(history.history['accuracy'], 'b', label='train acc')\n",
        "    acc_ax.plot(history.history['val_accuracy'], 'g', label='val acc')\n",
        "    loss_ax.set_xlabel('epoch')\n",
        "    loss_ax.set_ylabel('loss')\n",
        "    acc_ax.set_ylabel('accuray')\n",
        "    loss_ax.legend(loc='upper left')\n",
        "    acc_ax.legend(loc='lower left')\n",
        "\n",
        "    plt.show()"
      ],
      "metadata": {
        "id": "oOPZMwboq-0o"
      },
      "id": "oOPZMwboq-0o",
      "execution_count": 38,
      "outputs": []
    },
    {
      "cell_type": "code",
      "source": [
        "print_acc_loss(history_simple)"
      ],
      "metadata": {
        "colab": {
          "base_uri": "https://localhost:8080/",
          "height": 334
        },
        "id": "dHKQFklerK0m",
        "outputId": "3bf5e984-8a87-4930-fe6c-dea7dfed3f1a"
      },
      "id": "dHKQFklerK0m",
      "execution_count": 39,
      "outputs": [
        {
          "output_type": "display_data",
          "data": {
            "text/plain": [
              "<Figure size 720x360 with 2 Axes>"
            ],
            "image/png": "[encoded data removed]"
          },
          "metadata": {
            "needs_background": "light"
          }
        }
      ]
    },
    {
      "cell_type": "markdown",
      "source": [
        "### **First model accuracy**"
      ],
      "metadata": {
        "id": "cGSmED-BsEqe"
      },
      "id": "cGSmED-BsEqe"
    },
    {
      "cell_type": "code",
      "source": [
        "def load_model(model_name):\n",
        "    from keras.models import load_model\n",
        "    model = load_model('/content/drive/MyDrive/AI_TeamProject/AI-teamProject-brailleTranslation/' + model_name)\n",
        "    return model\n",
        "\n",
        "def acc_chk(model, val):\n",
        "    acc = model.evaluate_generator(val)[1]\n",
        "    print('model accuracy: {}'.format(round(acc,4)))"
      ],
      "metadata": {
        "id": "RyT3WKft6T5y"
      },
      "id": "RyT3WKft6T5y",
      "execution_count": 47,
      "outputs": []
    },
    {
      "cell_type": "code",
      "source": [
        "# first model accuray\n",
        "from keras.models import Model,load_model\n",
        "model_simple = load_model('BrailleNet_simple.h5')\n",
        "acc = model_simple.evaluate_generator(val_generator)[1]\n",
        "print('model accuracy: {}'.format(round(acc,4)))"
      ],
      "metadata": {
        "colab": {
          "base_uri": "https://localhost:8080/"
        },
        "id": "vhE5ekKgnoJh",
        "outputId": "3678e0ec-deb2-4abf-ab98-3ca0f4f172ee"
      },
      "id": "vhE5ekKgnoJh",
      "execution_count": 41,
      "outputs": [
        {
          "output_type": "stream",
          "name": "stderr",
          "text": [
            "<ipython-input-41-1486d7dc7910>:4: UserWarning: `Model.evaluate_generator` is deprecated and will be removed in a future version. Please use `Model.evaluate`, which supports generators.\n",
            "  acc = model_simple.evaluate_generator(val_generator)[1]\n"
          ]
        },
        {
          "output_type": "stream",
          "name": "stdout",
          "text": [
            "model accuracy: 0.8013\n"
          ]
        }
      ]
    },
    {
      "cell_type": "markdown",
      "source": [
        "# **5.2 Second Model**\n",
        "* Secondly, we detected CNN model with SeperableConv2D using Kaggle Data\n",
        "* Add Features:\n",
        "  * ReduceLROnPlateau : This is the part to improve the learning rate during model learning. If you fall into a local pit before reaching your final goal, adjust the learning rate to get out.\n",
        "  * EarlyStopping : If there is no significant change during learning, get out. Overfitting and underfitting can be properly determined.\n",
        "  * kernel_regularizer: Regularizer to apply a penalty on the layer's kernel using L2\n",
        "  * SperableConv2D\n",
        "\n",
        "\n",
        "###**SeperableConv2D**\n",
        "* Depthwise Conv + Pointwise Conv\n",
        "  \n",
        "  <img src = \"https://drive.google.com/uc?id=159W63eJVfpUz_x98OIJWw75gWdOD-yNj\" height = 300 width = 500>\n",
        "\n",
        "* Comparing MobileNet results above consisting of general convs only with MobileNet below, which adds Depthwise Separable Convolution Layer, the accuracy is reduced, but Multi-Adds and parameters are reduced by about 88.3% and 85.7%.\n"
      ],
      "metadata": {
        "id": "bQatcn-bsMMe"
      },
      "id": "bQatcn-bsMMe"
    },
    {
      "cell_type": "code",
      "source": [
        "#Using Seperable con \n",
        "\n",
        "from keras import backend as K\n",
        "from keras import layers as L\n",
        "from keras.models import Model,load_model\n",
        "from keras.regularizers import l2\n",
        "from keras.callbacks import ModelCheckpoint,ReduceLROnPlateau,EarlyStopping\n",
        "\n",
        "def Make_second_model(train,val):\n",
        "  K.clear_session()\n",
        "  reduce_lr = ReduceLROnPlateau(patience=8,verbose=0)\n",
        "  path = \"/content/gdrive/MyDrive/AI_TeamProject/AI-teamProject-brailleTranslation/\"\n",
        "  model_ckpt = ModelCheckpoint(path+'BrailleNet_second.h5',save_best_only=True)\n",
        "  early_stop = EarlyStopping(patience=15,verbose=1)\n",
        "  entry = L.Input(shape=(28, 28 ,3))\n",
        "  x = L.SeparableConv2D(64,(3,3),activation='relu')(entry)\n",
        "  x = L.MaxPooling2D((2,2))(x)\n",
        "  x = L.SeparableConv2D(128,(3,3),activation='relu')(x)\n",
        "  x = L.MaxPooling2D((2,2))(x)\n",
        "  x = L.SeparableConv2D(256,(2,2),activation='relu')(x)\n",
        "  x = L.GlobalMaxPooling2D()(x)\n",
        "  x = L.Dense(256)(x)\n",
        "  x = L.LeakyReLU()(x)\n",
        "  x = L.Dense(64,kernel_regularizer=l2(2e-4))(x)\n",
        "  x = L.LeakyReLU()(x)\n",
        "  x = L.Dense(26,activation='softmax')(x)\n",
        "  \n",
        "  model = Model(entry,x)\n",
        "  model.compile(loss='categorical_crossentropy',optimizer='adam',metrics=['accuracy'])\n",
        "  history = model.fit_generator(train_generator,validation_data=val_generator,epochs=30,\n",
        "                              callbacks=[model_ckpt,reduce_lr,early_stop],verbose=0)\n",
        "  return history"
      ],
      "metadata": {
        "id": "AHw5UXZi6x6D"
      },
      "id": "AHw5UXZi6x6D",
      "execution_count": 43,
      "outputs": []
    },
    {
      "cell_type": "code",
      "source": [
        "history_second = Make_second_model(train_generator,val_generator)"
      ],
      "metadata": {
        "colab": {
          "base_uri": "https://localhost:8080/"
        },
        "id": "usnv1iE2t8h1",
        "outputId": "2bdbee3a-b771-4ff4-dea0-82ca2221b252"
      },
      "id": "usnv1iE2t8h1",
      "execution_count": 44,
      "outputs": [
        {
          "output_type": "stream",
          "name": "stderr",
          "text": [
            "<ipython-input-43-82edb1ef3c29>:30: UserWarning: `Model.fit_generator` is deprecated and will be removed in a future version. Please use `Model.fit`, which supports generators.\n",
            "  history = model.fit_generator(train_generator,validation_data=val_generator,epochs=30,\n"
          ]
        }
      ]
    },
    {
      "cell_type": "markdown",
      "source": [
        "### **Second model visualize assessment results**"
      ],
      "metadata": {
        "id": "WWC98cuq4KqY"
      },
      "id": "WWC98cuq4KqY"
    },
    {
      "cell_type": "code",
      "source": [
        "print_acc_loss(history_second)"
      ],
      "metadata": {
        "colab": {
          "base_uri": "https://localhost:8080/",
          "height": 334
        },
        "id": "rsZvwYrq4JTI",
        "outputId": "373ccfe4-5e18-44ff-f035-372b6c70cffc"
      },
      "id": "rsZvwYrq4JTI",
      "execution_count": 45,
      "outputs": [
        {
          "output_type": "display_data",
          "data": {
            "text/plain": [
              "<Figure size 720x360 with 2 Axes>"
            ],
            "image/png": "[encoded data removed]"
          },
          "metadata": {
            "needs_background": "light"
          }
        }
      ]
    },
    {
      "cell_type": "markdown",
      "source": [
        "### **Second model accuracy**"
      ],
      "metadata": {
        "id": "OCrARpdm4caI"
      },
      "id": "OCrARpdm4caI"
    },
    {
      "cell_type": "code",
      "source": [
        "from keras.models import Model,load_model\n",
        "path = \"/content/gdrive/MyDrive/AI_TeamProject/AI-teamProject-brailleTranslation/\"\n",
        "model_second = load_model(path + 'BrailleNet_second.h5')\n",
        "acc = model_second.evaluate_generator(val_generator)[1]\n",
        "print('model accuracy: {}'.format(round(acc,4)))"
      ],
      "metadata": {
        "colab": {
          "base_uri": "https://localhost:8080/"
        },
        "id": "KanBi5gp8Fzc",
        "outputId": "bd356b3d-9aff-40b1-92b0-f12344987b8a"
      },
      "id": "KanBi5gp8Fzc",
      "execution_count": 46,
      "outputs": [
        {
          "output_type": "stream",
          "name": "stderr",
          "text": [
            "<ipython-input-46-8a6bca7f2df9>:4: UserWarning: `Model.evaluate_generator` is deprecated and will be removed in a future version. Please use `Model.evaluate`, which supports generators.\n",
            "  acc = model_second.evaluate_generator(val_generator)[1]\n"
          ]
        },
        {
          "output_type": "stream",
          "name": "stdout",
          "text": [
            "model accuracy: 0.8942\n"
          ]
        }
      ]
    },
    {
      "cell_type": "markdown",
      "source": [
        "# **5.3 Third Model**\n",
        "* Thirdly, we detected CNN model by referring to the contents of the paper.\n",
        "<img src = \"https://drive.google.com/uc?id=1TCEppgk86gHO_0N7sgcfUQpKxmsQyw9i\" height = 300 width = 500>\n",
        "* There are three ways to improve the performance of the CNN model:\n",
        "  * Increase channels\n",
        "  * Increase the layer\n",
        "  * Increase original resolution\n",
        "\n",
        "<img src = \"https://drive.google.com/uc?id=1yCQONsNp3YvSMbEPiKnZdmEKqrUYrlWg\" height = 300 width = 500>\n",
        "\n",
        "* In the same paper, show a higher performance growth rate when the resolution of the input image is high even in the same model.\n",
        "\n",
        "* ### **In CNN, the size of the filter is very important. The accuracy depends on how you use the filter.**\n",
        "\n",
        "```\n",
        " entry = L.Input(shape=(36,36,3))\n",
        "    x = L.SeparableConv2D(64,(3,3),activation='relu',padding ='same')(entry)\n",
        "    x = L.MaxPooling2D((2,2))(x)\n",
        "\n",
        "    x = L.SeparableConv2D(128,(3,3),activation='relu',padding ='same')(x)\n",
        "    x = L.MaxPooling2D((2,2))(x)\n",
        "\n",
        "    x = L.SeparableConv2D(256,(2,2),activation='relu',padding ='same')(x)\n",
        "    x = L.GlobalMaxPooling2D()(x)\n",
        "```\n",
        "* Using Conv2D, we find it using 64 kernels and its strid is 3*3.\n",
        "\n",
        "<img src = \"https://drive.google.com/uc?id=1k92Ls5MWK3lOei96U2It9GLGE4OlxZ98\" height = 300 width = 200>\n",
        "\n",
        "* When increasing the resolution, it is better to increase the stride value as well.\n",
        "\n",
        "* ### **Changed the resolution of the image to 50 * 50 and the filter size to 10 * 10**\n",
        "\n",
        "```\n",
        "    entry = L.Input(shape=(50,50,3))\n",
        "    x = L.SeparableConv2D(128, (10,10), activation='relu', padding='same')(entry)\n",
        "    x = L.MaxPooling2D((2, 2))(x)\n",
        "    x = L.SeparableConv2D(256,(10,10),activation='relu',padding ='same')(x)\n",
        "    x = L.MaxPooling2D((2,2))(x)\n",
        "```\n",
        "\n",
        "* This is the approximate size of the image and the size of the filter\n",
        "\n",
        "<img src = \"https://drive.google.com/uc?id=1RHLRBWx7ULvnQh7fCiQmPvxsj2c17Y4K\" height = 200 width = 150>"
      ],
      "metadata": {
        "id": "oMRV4kAST9sC"
      },
      "id": "oMRV4kAST9sC"
    },
    {
      "cell_type": "code",
      "source": [
        "from tensorflow.keras import backend as K\n",
        "from tensorflow.keras import layers as L\n",
        "from tensorflow.keras.models import Model\n",
        "from tensorflow.keras.regularizers import l2\n",
        "from tensorflow.keras.callbacks import ModelCheckpoint,ReduceLROnPlateau,EarlyStopping\n",
        "\n",
        "def Make_model(train, val):\n",
        "    K.clear_session()\n",
        "\n",
        "    model_ckpt = ModelCheckpoint('/content/drive/MyDrive/AI_TeamProject/AI-teamProject-brailleTranslation/BrailleNet_third.h5',save_best_only=True)\n",
        "    reduce_lr = ReduceLROnPlateau(patience=8,verbose=1)\n",
        "    early_stop = EarlyStopping(patience=5,verbose=2,monitor='accuracy')\n",
        "\n",
        "    entry = L.Input(shape=(50,50,3))\n",
        "    x = L.SeparableConv2D(128, (10,10), activation='relu', padding='same')(entry)\n",
        "    x = L.MaxPooling2D((2, 2))(x)\n",
        "    x = L.SeparableConv2D(256,(10,10),activation='relu',padding ='same')(x)\n",
        "    x = L.MaxPooling2D((2,2))(x)\n",
        "    x = L.SeparableConv2D(512,(10,10),activation='relu',padding ='same')(x)\n",
        "    x = L.GlobalMaxPooling2D()(x)\n",
        "\n",
        "    x = L.Dense(512)(x)\n",
        "    x = L.LeakyReLU()(x)\n",
        "    x = L.Dense(256)(x)\n",
        "    x = L.ReLU()(x)\n",
        "    x = L.Dense(128,kernel_regularizer=l2(2e-4))(x)\n",
        "    x = L.ReLU()(x)\n",
        "    x = L.Dense(32,activation='softmax')(x)\n",
        "\n",
        "    model = Model(entry,x)\n",
        "    model.compile(loss='categorical_crossentropy',optimizer='adam',metrics=['accuracy'])\n",
        "\n",
        "    history = model.fit_generator(train,validation_data=val,epochs=60,\n",
        "                                  callbacks=[model_ckpt,reduce_lr,early_stop],verbose=1)\n",
        "    \n",
        "    return history\n"
      ],
      "metadata": {
        "id": "TPZMT0BJDykY"
      },
      "id": "TPZMT0BJDykY",
      "execution_count": 48,
      "outputs": []
    },
    {
      "cell_type": "code",
      "source": [
        "history_third = Make_model(train_generator,val_generator)"
      ],
      "metadata": {
        "colab": {
          "base_uri": "https://localhost:8080/",
          "height": 1000
        },
        "id": "P9oSn_cOEB90",
        "outputId": "dc23ace4-2537-4fe2-d4d7-1dfa2689b974"
      },
      "id": "P9oSn_cOEB90",
      "execution_count": 49,
      "outputs": [
        {
          "output_type": "stream",
          "name": "stdout",
          "text": [
            "Epoch 1/60\n"
          ]
        },
        {
          "output_type": "stream",
          "name": "stderr",
          "text": [
            "<ipython-input-48-a761ff98b65d>:33: UserWarning: `Model.fit_generator` is deprecated and will be removed in a future version. Please use `Model.fit`, which supports generators.\n",
            "  history = model.fit_generator(train,validation_data=val,epochs=60,\n"
          ]
        },
        {
          "output_type": "error",
          "ename": "InvalidArgumentError",
          "evalue": "ignored",
          "traceback": [
            "\u001b[0;31m---------------------------------------------------------------------------\u001b[0m",
            "\u001b[0;31mInvalidArgumentError\u001b[0m                      Traceback (most recent call last)",
            "\u001b[0;32m<ipython-input-49-967a8e4c6214>\u001b[0m in \u001b[0;36m<module>\u001b[0;34m\u001b[0m\n\u001b[0;32m----> 1\u001b[0;31m \u001b[0mhistory_third\u001b[0m \u001b[0;34m=\u001b[0m \u001b[0mMake_model\u001b[0m\u001b[0;34m(\u001b[0m\u001b[0mtrain_generator\u001b[0m\u001b[0;34m,\u001b[0m\u001b[0mval_generator\u001b[0m\u001b[0;34m)\u001b[0m\u001b[0;34m\u001b[0m\u001b[0;34m\u001b[0m\u001b[0m\n\u001b[0m",
            "\u001b[0;32m<ipython-input-48-a761ff98b65d>\u001b[0m in \u001b[0;36mMake_model\u001b[0;34m(train, val)\u001b[0m\n\u001b[1;32m     31\u001b[0m     \u001b[0mmodel\u001b[0m\u001b[0;34m.\u001b[0m\u001b[0mcompile\u001b[0m\u001b[0;34m(\u001b[0m\u001b[0mloss\u001b[0m\u001b[0;34m=\u001b[0m\u001b[0;34m'categorical_crossentropy'\u001b[0m\u001b[0;34m,\u001b[0m\u001b[0moptimizer\u001b[0m\u001b[0;34m=\u001b[0m\u001b[0;34m'adam'\u001b[0m\u001b[0;34m,\u001b[0m\u001b[0mmetrics\u001b[0m\u001b[0;34m=\u001b[0m\u001b[0;34m[\u001b[0m\u001b[0;34m'accuracy'\u001b[0m\u001b[0;34m]\u001b[0m\u001b[0;34m)\u001b[0m\u001b[0;34m\u001b[0m\u001b[0;34m\u001b[0m\u001b[0m\n\u001b[1;32m     32\u001b[0m \u001b[0;34m\u001b[0m\u001b[0m\n\u001b[0;32m---> 33\u001b[0;31m     history = model.fit_generator(train,validation_data=val,epochs=60,\n\u001b[0m\u001b[1;32m     34\u001b[0m                                   callbacks=[model_ckpt,reduce_lr,early_stop],verbose=1)\n\u001b[1;32m     35\u001b[0m \u001b[0;34m\u001b[0m\u001b[0m\n",
            "\u001b[0;32m/usr/local/lib/python3.8/dist-packages/keras/engine/training.py\u001b[0m in \u001b[0;36mfit_generator\u001b[0;34m(self, generator, steps_per_epoch, epochs, verbose, callbacks, validation_data, validation_steps, validation_freq, class_weight, max_queue_size, workers, use_multiprocessing, shuffle, initial_epoch)\u001b[0m\n\u001b[1;32m   2258\u001b[0m         \u001b[0;34m'Please use `Model.fit`, which supports generators.'\u001b[0m\u001b[0;34m,\u001b[0m\u001b[0;34m\u001b[0m\u001b[0;34m\u001b[0m\u001b[0m\n\u001b[1;32m   2259\u001b[0m         stacklevel=2)\n\u001b[0;32m-> 2260\u001b[0;31m     return self.fit(\n\u001b[0m\u001b[1;32m   2261\u001b[0m         \u001b[0mgenerator\u001b[0m\u001b[0;34m,\u001b[0m\u001b[0;34m\u001b[0m\u001b[0;34m\u001b[0m\u001b[0m\n\u001b[1;32m   2262\u001b[0m         \u001b[0msteps_per_epoch\u001b[0m\u001b[0;34m=\u001b[0m\u001b[0msteps_per_epoch\u001b[0m\u001b[0;34m,\u001b[0m\u001b[0;34m\u001b[0m\u001b[0;34m\u001b[0m\u001b[0m\n",
            "\u001b[0;32m/usr/local/lib/python3.8/dist-packages/keras/utils/traceback_utils.py\u001b[0m in \u001b[0;36merror_handler\u001b[0;34m(*args, **kwargs)\u001b[0m\n\u001b[1;32m     65\u001b[0m     \u001b[0;32mexcept\u001b[0m \u001b[0mException\u001b[0m \u001b[0;32mas\u001b[0m \u001b[0me\u001b[0m\u001b[0;34m:\u001b[0m  \u001b[0;31m# pylint: disable=broad-except\u001b[0m\u001b[0;34m\u001b[0m\u001b[0;34m\u001b[0m\u001b[0m\n\u001b[1;32m     66\u001b[0m       \u001b[0mfiltered_tb\u001b[0m \u001b[0;34m=\u001b[0m \u001b[0m_process_traceback_frames\u001b[0m\u001b[0;34m(\u001b[0m\u001b[0me\u001b[0m\u001b[0;34m.\u001b[0m\u001b[0m__traceback__\u001b[0m\u001b[0;34m)\u001b[0m\u001b[0;34m\u001b[0m\u001b[0;34m\u001b[0m\u001b[0m\n\u001b[0;32m---> 67\u001b[0;31m       \u001b[0;32mraise\u001b[0m \u001b[0me\u001b[0m\u001b[0;34m.\u001b[0m\u001b[0mwith_traceback\u001b[0m\u001b[0;34m(\u001b[0m\u001b[0mfiltered_tb\u001b[0m\u001b[0;34m)\u001b[0m \u001b[0;32mfrom\u001b[0m \u001b[0;32mNone\u001b[0m\u001b[0;34m\u001b[0m\u001b[0;34m\u001b[0m\u001b[0m\n\u001b[0m\u001b[1;32m     68\u001b[0m     \u001b[0;32mfinally\u001b[0m\u001b[0;34m:\u001b[0m\u001b[0;34m\u001b[0m\u001b[0;34m\u001b[0m\u001b[0m\n\u001b[1;32m     69\u001b[0m       \u001b[0;32mdel\u001b[0m \u001b[0mfiltered_tb\u001b[0m\u001b[0;34m\u001b[0m\u001b[0;34m\u001b[0m\u001b[0m\n",
            "\u001b[0;32m/usr/local/lib/python3.8/dist-packages/tensorflow/python/eager/execute.py\u001b[0m in \u001b[0;36mquick_execute\u001b[0;34m(op_name, num_outputs, inputs, attrs, ctx, name)\u001b[0m\n\u001b[1;32m     52\u001b[0m   \u001b[0;32mtry\u001b[0m\u001b[0;34m:\u001b[0m\u001b[0;34m\u001b[0m\u001b[0;34m\u001b[0m\u001b[0m\n\u001b[1;32m     53\u001b[0m     \u001b[0mctx\u001b[0m\u001b[0;34m.\u001b[0m\u001b[0mensure_initialized\u001b[0m\u001b[0;34m(\u001b[0m\u001b[0;34m)\u001b[0m\u001b[0;34m\u001b[0m\u001b[0;34m\u001b[0m\u001b[0m\n\u001b[0;32m---> 54\u001b[0;31m     tensors = pywrap_tfe.TFE_Py_Execute(ctx._handle, device_name, op_name,\n\u001b[0m\u001b[1;32m     55\u001b[0m                                         inputs, attrs, num_outputs)\n\u001b[1;32m     56\u001b[0m   \u001b[0;32mexcept\u001b[0m \u001b[0mcore\u001b[0m\u001b[0;34m.\u001b[0m\u001b[0m_NotOkStatusException\u001b[0m \u001b[0;32mas\u001b[0m \u001b[0me\u001b[0m\u001b[0;34m:\u001b[0m\u001b[0;34m\u001b[0m\u001b[0;34m\u001b[0m\u001b[0m\n",
            "\u001b[0;31mInvalidArgumentError\u001b[0m: Graph execution error:\n\nDetected at node 'categorical_crossentropy/softmax_cross_entropy_with_logits' defined at (most recent call last):\n    File \"/usr/lib/python3.8/runpy.py\", line 194, in _run_module_as_main\n      return _run_code(code, main_globals, None,\n    File \"/usr/lib/python3.8/runpy.py\", line 87, in _run_code\n      exec(code, run_globals)\n    File \"/usr/local/lib/python3.8/dist-packages/ipykernel_launcher.py\", line 16, in <module>\n      app.launch_new_instance()\n    File \"/usr/local/lib/python3.8/dist-packages/traitlets/config/application.py\", line 985, in launch_instance\n      app.start()\n    File \"/usr/local/lib/python3.8/dist-packages/ipykernel/kernelapp.py\", line 612, in start\n      self.io_loop.start()\n    File \"/usr/local/lib/python3.8/dist-packages/tornado/platform/asyncio.py\", line 149, in start\n      self.asyncio_loop.run_forever()\n    File \"/usr/lib/python3.8/asyncio/base_events.py\", line 570, in run_forever\n      self._run_once()\n    File \"/usr/lib/python3.8/asyncio/base_events.py\", line 1859, in _run_once\n      handle._run()\n    File \"/usr/lib/python3.8/asyncio/events.py\", line 81, in _run\n      self._context.run(self._callback, *self._args)\n    File \"/usr/local/lib/python3.8/dist-packages/tornado/ioloop.py\", line 690, in <lambda>\n      lambda f: self._run_callback(functools.partial(callback, future))\n    File \"/usr/local/lib/python3.8/dist-packages/tornado/ioloop.py\", line 743, in _run_callback\n      ret = callback()\n    File \"/usr/local/lib/python3.8/dist-packages/tornado/gen.py\", line 787, in inner\n      self.run()\n    File \"/usr/local/lib/python3.8/dist-packages/tornado/gen.py\", line 748, in run\n      yielded = self.gen.send(value)\n    File \"/usr/local/lib/python3.8/dist-packages/ipykernel/kernelbase.py\", line 365, in process_one\n      yield gen.maybe_future(dispatch(*args))\n    File \"/usr/local/lib/python3.8/dist-packages/tornado/gen.py\", line 209, in wrapper\n      yielded = next(result)\n    File \"/usr/local/lib/python3.8/dist-packages/ipykernel/kernelbase.py\", line 268, in dispatch_shell\n      yield gen.maybe_future(handler(stream, idents, msg))\n    File \"/usr/local/lib/python3.8/dist-packages/tornado/gen.py\", line 209, in wrapper\n      yielded = next(result)\n    File \"/usr/local/lib/python3.8/dist-packages/ipykernel/kernelbase.py\", line 543, in execute_request\n      self.do_execute(\n    File \"/usr/local/lib/python3.8/dist-packages/tornado/gen.py\", line 209, in wrapper\n      yielded = next(result)\n    File \"/usr/local/lib/python3.8/dist-packages/ipykernel/ipkernel.py\", line 306, in do_execute\n      res = shell.run_cell(code, store_history=store_history, silent=silent)\n    File \"/usr/local/lib/python3.8/dist-packages/ipykernel/zmqshell.py\", line 536, in run_cell\n      return super(ZMQInteractiveShell, self).run_cell(*args, **kwargs)\n    File \"/usr/local/lib/python3.8/dist-packages/IPython/core/interactiveshell.py\", line 2854, in run_cell\n      result = self._run_cell(\n    File \"/usr/local/lib/python3.8/dist-packages/IPython/core/interactiveshell.py\", line 2881, in _run_cell\n      return runner(coro)\n    File \"/usr/local/lib/python3.8/dist-packages/IPython/core/async_helpers.py\", line 68, in _pseudo_sync_runner\n      coro.send(None)\n    File \"/usr/local/lib/python3.8/dist-packages/IPython/core/interactiveshell.py\", line 3057, in run_cell_async\n      has_raised = await self.run_ast_nodes(code_ast.body, cell_name,\n    File \"/usr/local/lib/python3.8/dist-packages/IPython/core/interactiveshell.py\", line 3249, in run_ast_nodes\n      if (await self.run_code(code, result,  async_=asy)):\n    File \"/usr/local/lib/python3.8/dist-packages/IPython/core/interactiveshell.py\", line 3326, in run_code\n      exec(code_obj, self.user_global_ns, self.user_ns)\n    File \"<ipython-input-49-967a8e4c6214>\", line 1, in <module>\n      history_third = Make_model(train_generator,val_generator)\n    File \"<ipython-input-48-a761ff98b65d>\", line 33, in Make_model\n      history = model.fit_generator(train,validation_data=val,epochs=60,\n    File \"/usr/local/lib/python3.8/dist-packages/keras/engine/training.py\", line 2260, in fit_generator\n      return self.fit(\n    File \"/usr/local/lib/python3.8/dist-packages/keras/utils/traceback_utils.py\", line 64, in error_handler\n      return fn(*args, **kwargs)\n    File \"/usr/local/lib/python3.8/dist-packages/keras/engine/training.py\", line 1409, in fit\n      tmp_logs = self.train_function(iterator)\n    File \"/usr/local/lib/python3.8/dist-packages/keras/engine/training.py\", line 1051, in train_function\n      return step_function(self, iterator)\n    File \"/usr/local/lib/python3.8/dist-packages/keras/engine/training.py\", line 1040, in step_function\n      outputs = model.distribute_strategy.run(run_step, args=(data,))\n    File \"/usr/local/lib/python3.8/dist-packages/keras/engine/training.py\", line 1030, in run_step\n      outputs = model.train_step(data)\n    File \"/usr/local/lib/python3.8/dist-packages/keras/engine/training.py\", line 890, in train_step\n      loss = self.compute_loss(x, y, y_pred, sample_weight)\n    File \"/usr/local/lib/python3.8/dist-packages/keras/engine/training.py\", line 948, in compute_loss\n      return self.compiled_loss(\n    File \"/usr/local/lib/python3.8/dist-packages/keras/engine/compile_utils.py\", line 201, in __call__\n      loss_value = loss_obj(y_t, y_p, sample_weight=sw)\n    File \"/usr/local/lib/python3.8/dist-packages/keras/losses.py\", line 139, in __call__\n      losses = call_fn(y_true, y_pred)\n    File \"/usr/local/lib/python3.8/dist-packages/keras/losses.py\", line 243, in call\n      return ag_fn(y_true, y_pred, **self._fn_kwargs)\n    File \"/usr/local/lib/python3.8/dist-packages/keras/losses.py\", line 1787, in categorical_crossentropy\n      return backend.categorical_crossentropy(\n    File \"/usr/local/lib/python3.8/dist-packages/keras/backend.py\", line 5134, in categorical_crossentropy\n      return tf.nn.softmax_cross_entropy_with_logits(\nNode: 'categorical_crossentropy/softmax_cross_entropy_with_logits'\nlogits and labels must be broadcastable: logits_size=[32,32] labels_size=[32,26]\n\t [[{{node categorical_crossentropy/softmax_cross_entropy_with_logits}}]] [Op:__inference_train_function_31280]"
          ]
        }
      ]
    },
    {
      "cell_type": "markdown",
      "source": [
        "### **Third model visualize assessment results**"
      ],
      "metadata": {
        "id": "F0u0HfuCEp9U"
      },
      "id": "F0u0HfuCEp9U"
    },
    {
      "cell_type": "code",
      "source": [
        "print_acc_loss(history_third)"
      ],
      "metadata": {
        "id": "4zhYIX2UEsFJ"
      },
      "id": "4zhYIX2UEsFJ",
      "execution_count": null,
      "outputs": []
    },
    {
      "cell_type": "markdown",
      "source": [
        "### **Third model accuracy**"
      ],
      "metadata": {
        "id": "YZuMjPJoEvdj"
      },
      "id": "YZuMjPJoEvdj"
    },
    {
      "cell_type": "code",
      "source": [
        "from keras.models import Model,load_model\n",
        "model_second = load_model('BrailleNet_third.h5')\n",
        "acc = model_second.evaluate_generator(val_generator)[1]\n",
        "print('model accuracy: {}'.format(round(acc,4)))"
      ],
      "metadata": {
        "id": "bc3rty0_EejA"
      },
      "id": "bc3rty0_EejA",
      "execution_count": null,
      "outputs": []
    },
    {
      "cell_type": "markdown",
      "source": [
        "# **5.4 Final braille Model**"
      ],
      "metadata": {
        "id": "jYJSs9aQyWt5"
      },
      "id": "jYJSs9aQyWt5"
    },
    {
      "cell_type": "markdown",
      "source": [
        "(1) Data Augmentation"
      ],
      "metadata": {
        "id": "NYI1wRm5FQue"
      },
      "id": "NYI1wRm5FQue"
    },
    {
      "cell_type": "code",
      "source": [
        "import os\n",
        "\n",
        "file_path = '/content/drive/MyDrive/AI_TeamProject/AI-teamProject-brailleTranslation'\n",
        "\n",
        "def createFolder(directory):\n",
        "      if not os.path.exists(directory):\n",
        "          os.makedirs(directory)\n",
        "\n",
        "createFolder(file_path+'/new_dataset')"
      ],
      "metadata": {
        "id": "M0ljwRlOyrSS"
      },
      "id": "M0ljwRlOyrSS",
      "execution_count": null,
      "outputs": []
    },
    {
      "cell_type": "code",
      "source": [
        "import tensorflow as tf\n",
        "from tensorflow.keras.preprocessing.image import ImageDataGenerator, img_to_array, load_img\n",
        "\n",
        "datagen = ImageDataGenerator(\n",
        "        rotation_range=5,\n",
        "        width_shift_range=0.1,\n",
        "        height_shift_range=0.1,\n",
        "        shear_range=0.05,\n",
        "        zoom_range=0.01,\n",
        "        fill_mode='constant',\n",
        "        cval=255\n",
        "        )\n",
        "\n",
        "def newGenerateData():\n",
        "  files = os.listdir(file_path + '/dataset')\n",
        "  for file in files:\n",
        "    if(os.path.splitext(file)[1] == '.png'):\n",
        "      filename = os.path.splitext(file)[0]\n",
        "      createFolder(file_path + '/new_dataset/'+ filename)\n",
        "      img = load_img(file_path+'/dataset/'+file)  # PIL 이미지\n",
        "      x = img_to_array(img)\n",
        "      x = x.reshape((1,) + x.shape)\n",
        "      if file == 'space.png':\n",
        "        import shutil\n",
        "        for _ in range(10):\n",
        "          print(_,file, file_path +'/dataset/'+file)\n",
        "          shutil.copy(file_path+'/dataset/'+file, file_path + '/new_dataset/'+ filename + '/' + filename + str(_) + '.jpg')\n",
        "      else:\n",
        "        i = 0\n",
        "        for batch in datagen.flow(x, batch_size=1, save_to_dir= file_path + '/new_dataset/'+ filename, save_prefix=filename, save_format='jpg'):\n",
        "          i += 1\n",
        "          if i > 20:\n",
        "            break  # 이미지 20장을 생성하고 마칩니다\n",
        "\n",
        "newGenerateData()\n"
      ],
      "metadata": {
        "id": "tTx2qXbSZfQz",
        "colab": {
          "base_uri": "https://localhost:8080/"
        },
        "outputId": "f3f1eb5d-7e0e-4467-dff8-836a45a62d44"
      },
      "id": "tTx2qXbSZfQz",
      "execution_count": null,
      "outputs": [
        {
          "output_type": "stream",
          "name": "stdout",
          "text": [
            "0 space.png /content/drive/MyDrive/AI_TeamProject/AI-teamProject-brailleTranslation/dataset/space.png\n",
            "1 space.png /content/drive/MyDrive/AI_TeamProject/AI-teamProject-brailleTranslation/dataset/space.png\n",
            "2 space.png /content/drive/MyDrive/AI_TeamProject/AI-teamProject-brailleTranslation/dataset/space.png\n",
            "3 space.png /content/drive/MyDrive/AI_TeamProject/AI-teamProject-brailleTranslation/dataset/space.png\n",
            "4 space.png /content/drive/MyDrive/AI_TeamProject/AI-teamProject-brailleTranslation/dataset/space.png\n",
            "5 space.png /content/drive/MyDrive/AI_TeamProject/AI-teamProject-brailleTranslation/dataset/space.png\n",
            "6 space.png /content/drive/MyDrive/AI_TeamProject/AI-teamProject-brailleTranslation/dataset/space.png\n",
            "7 space.png /content/drive/MyDrive/AI_TeamProject/AI-teamProject-brailleTranslation/dataset/space.png\n",
            "8 space.png /content/drive/MyDrive/AI_TeamProject/AI-teamProject-brailleTranslation/dataset/space.png\n",
            "9 space.png /content/drive/MyDrive/AI_TeamProject/AI-teamProject-brailleTranslation/dataset/space.png\n"
          ]
        }
      ]
    },
    {
      "cell_type": "markdown",
      "source": [
        "(2) Generator에 넣어 학습 준비"
      ],
      "metadata": {
        "id": "g4-0-UX00UEG"
      },
      "id": "g4-0-UX00UEG"
    },
    {
      "cell_type": "code",
      "source": [
        "from keras_preprocessing.image import ImageDataGenerator\n",
        "\n",
        "def data_ready(input_size):\n",
        "    images_dir = '/content/drive/MyDrive/AI_TeamProject/AI-teamProject-brailleTranslation/new_dataset'\n",
        "\n",
        "    datagen = ImageDataGenerator(rotation_range=5,\n",
        "                                 shear_range=5,\n",
        "                                 validation_split=0.2,\n",
        "                                 ) #20%를 검증모델로 사용.\n",
        "\n",
        "    train_generator = datagen.flow_from_directory(images_dir,\n",
        "                                                  target_size=(input_size,input_size),\n",
        "                                                  subset='training')\n",
        "\n",
        "    val_generator = datagen.flow_from_directory(images_dir,\n",
        "                                                target_size=(input_size,input_size),\n",
        "                                                subset='validation')\n",
        "\n",
        "    return train_generator, val_generator\n",
        "\n",
        "def load_image(img_path, input_size):\n",
        "    images_dir = img_path\n",
        "    datagen = ImageDataGenerator()\n",
        "    real_generator = datagen.flow_from_directory(images_dir,\n",
        "                                                 target_size=(input_size, input_size))\n",
        "\n",
        "    return real_generator"
      ],
      "metadata": {
        "id": "Gx_iBVCzp14j"
      },
      "id": "Gx_iBVCzp14j",
      "execution_count": null,
      "outputs": []
    },
    {
      "cell_type": "markdown",
      "source": [
        "(3) 모델 생성 "
      ],
      "metadata": {
        "id": "E63aUj2Q03b2"
      },
      "id": "E63aUj2Q03b2"
    },
    {
      "cell_type": "code",
      "source": [
        "from tensorflow.keras import backend as K\n",
        "from tensorflow.keras import layers as L\n",
        "from tensorflow.keras.models import Model\n",
        "from tensorflow.keras.regularizers import l2\n",
        "from tensorflow.keras.callbacks import ModelCheckpoint,ReduceLROnPlateau,EarlyStopping\n",
        "\n",
        "def Make_model(train, val, input_size):\n",
        "    K.clear_session()\n",
        "\n",
        "    model_ckpt = ModelCheckpoint('/content/drive/MyDrive/AI_TeamProject/AI-teamProject-brailleTranslation/BrailleNet.h5',save_best_only=True)\n",
        "    reduce_lr = ReduceLROnPlateau(patience=8,verbose=1)\n",
        "    early_stop = EarlyStopping(patience=5,verbose=2,monitor='accuracy')\n",
        "\n",
        "    entry = L.Input(shape=(input_size,input_size,3))\n",
        "    x = L.SeparableConv2D(128, (10,10), activation='relu', padding='same')(entry)\n",
        "    x = L.MaxPooling2D((2, 2))(x)\n",
        "    x = L.SeparableConv2D(256,(10,10),activation='relu',padding ='same')(x)\n",
        "    x = L.MaxPooling2D((2,2))(x)\n",
        "    x = L.SeparableConv2D(512,(10,10),activation='relu',padding ='same')(x)\n",
        "    x = L.GlobalMaxPooling2D()(x)\n",
        "\n",
        "    x = L.Dense(512)(x)\n",
        "    x = L.LeakyReLU()(x)\n",
        "    x = L.Dense(256)(x)\n",
        "    x = L.ReLU()(x)\n",
        "    x = L.Dense(128,kernel_regularizer=l2(2e-4))(x)\n",
        "    x = L.ReLU()(x)\n",
        "    x = L.Dense(32,activation='softmax')(x)\n",
        "\n",
        "    model = Model(entry,x)\n",
        "    model.compile(loss='categorical_crossentropy',optimizer='adam',metrics=['accuracy'])\n",
        "\n",
        "    history = model.fit_generator(train,validation_data=val,epochs=60,\n",
        "                                  callbacks=[model_ckpt,reduce_lr,early_stop],verbose=1)\n",
        "    \n",
        "    return history\n"
      ],
      "metadata": {
        "id": "NFKDS9LIiLjD"
      },
      "id": "NFKDS9LIiLjD",
      "execution_count": null,
      "outputs": []
    },
    {
      "cell_type": "markdown",
      "source": [
        "(4) 모델 결과 도식화"
      ],
      "metadata": {
        "id": "9C9W8jQk1ENC"
      },
      "id": "9C9W8jQk1ENC"
    },
    {
      "cell_type": "code",
      "source": [
        "def print_acc_loss(history):\n",
        "    # 평가 결과 도식화\n",
        "    import matplotlib.pyplot as plt\n",
        "    fig, loss_ax = plt.subplots(figsize=(10, 5))\n",
        "    acc_ax = loss_ax.twinx()\n",
        "    loss_ax.plot(history.history['loss'], 'y', label='train loss')\n",
        "    loss_ax.plot(history.history['val_loss'], 'r', label='val loss')\n",
        "    acc_ax.plot(history.history['accuracy'], 'b', label='train acc')\n",
        "    acc_ax.plot(history.history['val_accuracy'], 'g', label='val acc')\n",
        "    loss_ax.set_xlabel('epoch')\n",
        "    loss_ax.set_ylabel('loss')\n",
        "    acc_ax.set_ylabel('accuray')\n",
        "    loss_ax.legend(loc='upper left')\n",
        "    acc_ax.legend(loc='lower left')\n",
        "\n",
        "    plt.show()"
      ],
      "metadata": {
        "id": "bgpcV8jC1HL7"
      },
      "id": "bgpcV8jC1HL7",
      "execution_count": null,
      "outputs": []
    },
    {
      "cell_type": "markdown",
      "source": [
        "(5) 모델 불러오기 , 정확도 확인"
      ],
      "metadata": {
        "id": "o5ro0cGz1Z0I"
      },
      "id": "o5ro0cGz1Z0I"
    },
    {
      "cell_type": "code",
      "source": [
        "def load_model(model_name):\n",
        "    from keras.models import load_model\n",
        "    model = load_model('/content/drive/MyDrive/AI_TeamProject/AI-teamProject-brailleTranslation/' + model_name)\n",
        "    return model\n",
        "\n",
        "def acc_chk(model, val):\n",
        "    acc = model.evaluate_generator(val)[1]\n",
        "    print('model accuracy: {}'.format(round(acc,4)))"
      ],
      "metadata": {
        "id": "6ThH7V_pwv9Q"
      },
      "id": "6ThH7V_pwv9Q",
      "execution_count": null,
      "outputs": []
    },
    {
      "cell_type": "markdown",
      "source": [
        "(6) 학습 시작"
      ],
      "metadata": {
        "id": "poJN61nh1dRe"
      },
      "id": "poJN61nh1dRe"
    },
    {
      "cell_type": "code",
      "source": [
        "os.getcwd()"
      ],
      "metadata": {
        "colab": {
          "base_uri": "https://localhost:8080/",
          "height": 36
        },
        "id": "oCsF-NE-2yCa",
        "outputId": "7df0dc33-e1ab-4a7f-c4ff-0de4143b4528"
      },
      "id": "oCsF-NE-2yCa",
      "execution_count": null,
      "outputs": [
        {
          "output_type": "execute_result",
          "data": {
            "text/plain": [
              "'/content'"
            ],
            "application/vnd.google.colaboratory.intrinsic+json": {
              "type": "string"
            }
          },
          "metadata": {},
          "execution_count": 24
        }
      ]
    },
    {
      "cell_type": "code",
      "source": [
        "input_size = 36\n",
        "input_size_prev = 28\n",
        "train_generator_prev, val_genrator = data_ready(input_size_prev)\n",
        "train_generator, val_generator = data_ready(input_size)\n"
      ],
      "metadata": {
        "colab": {
          "base_uri": "https://localhost:8080/"
        },
        "id": "xGhabQZiw0C9",
        "outputId": "7c9d3fab-c5ac-4479-9e62-7601a29d6763"
      },
      "id": "xGhabQZiw0C9",
      "execution_count": null,
      "outputs": [
        {
          "output_type": "stream",
          "name": "stdout",
          "text": [
            "Found 534 images belonging to 32 classes.\n",
            "Found 126 images belonging to 32 classes.\n"
          ]
        }
      ]
    },
    {
      "cell_type": "code",
      "source": [
        "hist = Make_model(train_generator,val_generator)"
      ],
      "metadata": {
        "colab": {
          "base_uri": "https://localhost:8080/"
        },
        "id": "I4oYVpJg3Gxz",
        "outputId": "76df6b9b-bb6b-4bcc-93ca-6de13d348b99"
      },
      "id": "I4oYVpJg3Gxz",
      "execution_count": null,
      "outputs": [
        {
          "output_type": "stream",
          "name": "stderr",
          "text": [
            "<ipython-input-9-6c2eef26b2c7>:33: UserWarning: `Model.fit_generator` is deprecated and will be removed in a future version. Please use `Model.fit`, which supports generators.\n",
            "  history = model.fit_generator(train,validation_data=val,epochs=60,\n"
          ]
        },
        {
          "output_type": "stream",
          "name": "stdout",
          "text": [
            "Epoch 1/60\n",
            "17/17 [==============================] - 504s 29s/step - loss: 3.5169 - accuracy: 0.0281 - val_loss: 3.4847 - val_accuracy: 0.0317 - lr: 0.0010\n",
            "Epoch 2/60\n",
            "17/17 [==============================] - 2s 133ms/step - loss: 3.4866 - accuracy: 0.0337 - val_loss: 3.4580 - val_accuracy: 0.0873 - lr: 0.0010\n",
            "Epoch 3/60\n",
            "17/17 [==============================] - 2s 101ms/step - loss: 3.3537 - accuracy: 0.0805 - val_loss: 3.0424 - val_accuracy: 0.1190 - lr: 0.0010\n",
            "Epoch 4/60\n",
            "17/17 [==============================] - 2s 95ms/step - loss: 2.1885 - accuracy: 0.3390 - val_loss: 1.5624 - val_accuracy: 0.4524 - lr: 0.0010\n",
            "Epoch 5/60\n",
            "17/17 [==============================] - 2s 93ms/step - loss: 0.9106 - accuracy: 0.7303 - val_loss: 0.3532 - val_accuracy: 0.9127 - lr: 0.0010\n",
            "Epoch 6/60\n",
            "17/17 [==============================] - 2s 95ms/step - loss: 0.5301 - accuracy: 0.8577 - val_loss: 0.3266 - val_accuracy: 0.9286 - lr: 0.0010\n",
            "Epoch 7/60\n",
            "17/17 [==============================] - 2s 95ms/step - loss: 0.2350 - accuracy: 0.9363 - val_loss: 0.1354 - val_accuracy: 0.9524 - lr: 0.0010\n",
            "Epoch 8/60\n",
            "17/17 [==============================] - 2s 95ms/step - loss: 0.0532 - accuracy: 0.9888 - val_loss: 0.0246 - val_accuracy: 1.0000 - lr: 0.0010\n",
            "Epoch 9/60\n",
            "17/17 [==============================] - 2s 96ms/step - loss: 0.0243 - accuracy: 0.9981 - val_loss: 0.0203 - val_accuracy: 1.0000 - lr: 0.0010\n",
            "Epoch 10/60\n",
            "17/17 [==============================] - 2s 88ms/step - loss: 0.0356 - accuracy: 0.9925 - val_loss: 0.0464 - val_accuracy: 0.9921 - lr: 0.0010\n",
            "Epoch 11/60\n",
            "17/17 [==============================] - 2s 94ms/step - loss: 0.0638 - accuracy: 0.9869 - val_loss: 0.0203 - val_accuracy: 1.0000 - lr: 0.0010\n",
            "Epoch 12/60\n",
            "17/17 [==============================] - 2s 93ms/step - loss: 0.0206 - accuracy: 1.0000 - val_loss: 0.0135 - val_accuracy: 1.0000 - lr: 0.0010\n",
            "Epoch 13/60\n",
            "17/17 [==============================] - 2s 94ms/step - loss: 0.0138 - accuracy: 1.0000 - val_loss: 0.0130 - val_accuracy: 1.0000 - lr: 0.0010\n",
            "Epoch 14/60\n",
            "17/17 [==============================] - 2s 92ms/step - loss: 0.0134 - accuracy: 1.0000 - val_loss: 0.0125 - val_accuracy: 1.0000 - lr: 0.0010\n",
            "Epoch 15/60\n",
            "17/17 [==============================] - 1s 87ms/step - loss: 0.0123 - accuracy: 1.0000 - val_loss: 0.0127 - val_accuracy: 1.0000 - lr: 0.0010\n",
            "Epoch 16/60\n",
            "17/17 [==============================] - 2s 92ms/step - loss: 0.0121 - accuracy: 1.0000 - val_loss: 0.0118 - val_accuracy: 1.0000 - lr: 0.0010\n",
            "Epoch 17/60\n",
            "17/17 [==============================] - 2s 97ms/step - loss: 0.0118 - accuracy: 1.0000 - val_loss: 0.0117 - val_accuracy: 1.0000 - lr: 0.0010\n",
            "Epoch 17: early stopping\n"
          ]
        }
      ]
    },
    {
      "cell_type": "code",
      "source": [
        "print_acc_loss(hist)"
      ],
      "metadata": {
        "colab": {
          "base_uri": "https://localhost:8080/",
          "height": 334
        },
        "id": "zxYHngr0GEax",
        "outputId": "6cfe2538-e4ee-48bb-b0ba-f58d8cd7f775"
      },
      "id": "zxYHngr0GEax",
      "execution_count": null,
      "outputs": [
        {
          "output_type": "display_data",
          "data": {
            "text/plain": [
              "<Figure size 720x360 with 2 Axes>"
            ],
            "image/png": "[encoded data removed]"
          },
          "metadata": {
            "needs_background": "light"
          }
        }
      ]
    },
    {
      "cell_type": "code",
      "source": [
        "model = load_model('BrailleNet.h5')\n",
        "acc_chk(model, val_generator)"
      ],
      "metadata": {
        "colab": {
          "base_uri": "https://localhost:8080/"
        },
        "id": "dINel95ZGj2O",
        "outputId": "05006622-b11a-494e-e9b9-ee3a4975125a"
      },
      "id": "dINel95ZGj2O",
      "execution_count": null,
      "outputs": [
        {
          "output_type": "stream",
          "name": "stderr",
          "text": [
            "<ipython-input-19-1d6df054a99d>:7: UserWarning: `Model.evaluate_generator` is deprecated and will be removed in a future version. Please use `Model.evaluate`, which supports generators.\n",
            "  acc = model.evaluate_generator(val)[1]\n"
          ]
        },
        {
          "output_type": "stream",
          "name": "stdout",
          "text": [
            "model accuracy: 1.0\n"
          ]
        }
      ]
    },
    {
      "cell_type": "markdown",
      "source": [
        "# **5.5 Test using final braille model**"
      ],
      "metadata": {
        "id": "dcK7etWF3SvE"
      },
      "id": "dcK7etWF3SvE"
    },
    {
      "cell_type": "code",
      "source": [
        "import PIL.Image as Img\n",
        "import numpy as np\n",
        "\n",
        "\n",
        "def get_test_img(path):\n",
        "  img = Img.open(path).convert('RGB')\n",
        "  img = img.resize((36,36))\n",
        "  x = img_to_array(img)\n",
        "  x = x.reshape((1,) + x.shape)\n",
        "\n",
        "  return x\n"
      ],
      "metadata": {
        "id": "tqrclPDvaShr"
      },
      "id": "tqrclPDvaShr",
      "execution_count": null,
      "outputs": []
    },
    {
      "cell_type": "code",
      "source": [
        "from functools import update_wrapper\n",
        "import os\n",
        "from tensorflow.keras.preprocessing.image import ImageDataGenerator, img_to_array, load_img\n",
        "\n",
        "def decode_predict(result,labels):\n",
        "  max = np.max(result)\n",
        "  index = np.where(result == max)\n",
        "  return labels[index[1][0]]\n",
        "\n",
        "def translate(test_image):\n",
        "  dir = os.listdir('/content/drive/MyDrive/AI_TeamProject/AI-teamProject-brailleTranslation/dataset')\n",
        "  tmp = []\n",
        "  for file in dir:\n",
        "    if(os.path.splitext(file)[1] == '.png'):\n",
        "      tmp.append(file.split('.')[0])\n",
        "  dir = tmp\n",
        "  dir.sort()\n",
        "  print(dir)\n",
        "  model = load_model('BrailleNet.h5')\n",
        "  result = model.predict(test_image)\n",
        "  decoded = decode_predict(result,dir)\n",
        "  return(decoded)\n",
        "\n",
        "def convert_test_img(input_img):\n",
        "  img = input_img.convert('RGB')\n",
        "  img = img.resize((36,36))\n",
        "  x = img_to_array(img)\n",
        "  x = x.reshape((1,) + x.shape)\n",
        "  return x"
      ],
      "metadata": {
        "id": "mdk7yT0XbDDr"
      },
      "id": "mdk7yT0XbDDr",
      "execution_count": null,
      "outputs": []
    },
    {
      "cell_type": "markdown",
      "source": [
        "(1) Translate Character"
      ],
      "metadata": {
        "id": "ROn0ca0L6wP9"
      },
      "id": "ROn0ca0L6wP9"
    },
    {
      "cell_type": "code",
      "source": [
        "import PIL.Image as Img\n",
        "test_file = '/content/drive/MyDrive/AI_TeamProject/AI-teamProject-brailleTranslation/testset/test_q.png'\n",
        "input = get_test_img(test_file)\n",
        "print(translate(input))"
      ],
      "metadata": {
        "colab": {
          "base_uri": "https://localhost:8080/"
        },
        "id": "yOhhYTXebEUa",
        "outputId": "da323c03-9aaf-434f-d450-bc3e7e6e0412"
      },
      "id": "yOhhYTXebEUa",
      "execution_count": null,
      "outputs": [
        {
          "output_type": "stream",
          "name": "stdout",
          "text": [
            "['a', 'b', 'c', 'comma', 'd', 'e', 'exclamation_point', 'f', 'g', 'h', 'i', 'j', 'k', 'l', 'm', 'n', 'o', 'p', 'period', 'q', 'question_mark', 'r', 's', 'space', 't', 'u', 'upper', 'v', 'w', 'x', 'y', 'z']\n",
            "1/1 [==============================] - 0s 85ms/step\n",
            "q\n"
          ]
        }
      ]
    },
    {
      "cell_type": "markdown",
      "source": [
        "\n",
        "(2) Making test case for sentence"
      ],
      "metadata": {
        "id": "eAPkMp8X7o16"
      },
      "id": "eAPkMp8X7o16"
    },
    {
      "cell_type": "code",
      "source": [
        "#Make test datset\n",
        "import cv2\n",
        "import numpy as np\n",
        "\n",
        "def make_test(word):\n",
        "  path = '/content/drive/MyDrive/AI_TeamProject/AI-teamProject-brailleTranslation/dataset'\n",
        "  store_path = '/content/drive/MyDrive/AI_TeamProject/AI-teamProject-brailleTranslation/testset'\n",
        "  result_img = np.zeros((36,36,3), np.uint8)\n",
        "  for ch in word:\n",
        "    if ch == ' ':\n",
        "      img = cv2.imread(path+'/space.png')\n",
        "      img = cv2.resize(img,(36,36))\n",
        "      result_img = cv2.hconcat([result_img,img])\n",
        "    elif ch == '!':\n",
        "      img = cv2.imread(path+'/exclamation_point.png')\n",
        "      img = cv2.resize(img,(36,36))\n",
        "      result_img = cv2.hconcat([result_img,img])\n",
        "    elif ch == ',':\n",
        "      img = cv2.imread(path+'/comma.png')\n",
        "      img = cv2.resize(img,(36,36))\n",
        "      result_img = cv2.hconcat([result_img,img])\n",
        "    elif ch == '.':\n",
        "      img = cv2.imread(path+'/period.png')\n",
        "      img = cv2.resize(img,(36,36))\n",
        "      result_img = cv2.hconcat([result_img,img])\n",
        "    elif ch == '?':\n",
        "      img = cv2.imread(path+'/question_mark.png')\n",
        "      img = cv2.resize(img,(36,36))\n",
        "      result_img = cv2.hconcat([result_img,img])\n",
        "    else:\n",
        "      if word.find(ch) == 0:\n",
        "        if ch.isupper():\n",
        "          result_img = cv2.imread(path+'/upper.png')\n",
        "          result_img = cv2.resize(result_img,(36,36))\n",
        "          ch = ch.lower()\n",
        "          img = cv2.imread(path+'/'+ ch +'.png')\n",
        "          img = cv2.resize(img,(36,36))\n",
        "          result_img = cv2.hconcat([result_img,img])\n",
        "        else:\n",
        "          result_img = cv2.imread(path+'/'+ ch +'.png')\n",
        "          result_img = cv2.resize(result_img,(36,36))\n",
        "      else:\n",
        "        if ch.isupper():\n",
        "          print(ch)\n",
        "          img = cv2.imread(path+'/upper.png')\n",
        "          img = cv2.resize(img,(36,36))\n",
        "          result_img = cv2.hconcat([result_img,img])\n",
        "          ch = ch.lower()\n",
        "          img = cv2.imread(path+'/'+ ch +'.png')\n",
        "          img = cv2.resize(img,(36,36))\n",
        "          result_img = cv2.hconcat([result_img,img])\n",
        "        else:\n",
        "          img = cv2.imread(path+'/'+ ch +'.png')\n",
        "          img = cv2.resize(img,(36,36))\n",
        "          result_img = cv2.hconcat([result_img,img])\n",
        "  cv2.imwrite(store_path+'/'+word+'.png', result_img)\n",
        "make_test('I am a student')"
      ],
      "metadata": {
        "id": "XodlpWdzjNJu"
      },
      "id": "XodlpWdzjNJu",
      "execution_count": 65,
      "outputs": []
    },
    {
      "cell_type": "markdown",
      "source": [
        "(3) Translate Sentence"
      ],
      "metadata": {
        "id": "-cq9ZvZC93rq"
      },
      "id": "-cq9ZvZC93rq"
    },
    {
      "cell_type": "code",
      "source": [
        "from PIL import Image\n",
        "import os\n",
        "\n",
        "def devide_img(fileName):\n",
        "  path = '/content/drive/MyDrive/AI_TeamProject/AI-teamProject-brailleTranslation/testset/'\n",
        "  dir = os.listdir('/content/drive/MyDrive/AI_TeamProject/AI-teamProject-brailleTranslation/dataset')\n",
        "  tmp = []\n",
        "  for file in dir:\n",
        "    if(os.path.splitext(file)[1] == '.png'):\n",
        "      tmp.append(file.split('.')[0])\n",
        "      dir = tmp\n",
        "      dir.sort()\n",
        "  img = Image.open(path+fileName)\n",
        "  (width,height) = img.size\n",
        "  print(width, height)\n",
        "  iterate_num = width // height\n",
        "  iterate_num = int(iterate_num)\n",
        "  start_point = 0\n",
        "  size = height\n",
        "  end_point = height\n",
        "  text = ''\n",
        "\n",
        "  special_character_dir = {'space': ' ', 'exclamation_point': '!', 'comma': ',', 'period':'.', \n",
        "                           'question_mark': '?'}\n",
        "  keyList = special_character_dir.keys()\n",
        "  translated_sentence = ''\n",
        "  isUpper = False\n",
        "  for i in range(0, iterate_num):\n",
        "    area = (start_point, 0, end_point, height)\n",
        "    cropped_img = img.crop(area)\n",
        "    result = translate(convert_test_img(cropped_img))\n",
        "    start_point = end_point\n",
        "    end_point += size\n",
        "    if result == 'upper':\n",
        "      isUpper = True\n",
        "      continue\n",
        "    if isUpper == True:\n",
        "      result = result.upper()\n",
        "      isUpper = False\n",
        "    if result in keyList:\n",
        "      result = special_character_dir[result]\n",
        "    print(result)\n",
        "    translated_sentence += result\n",
        "\n",
        "  return translated_sentence\n",
        "result = devide_img('Welcome to AI class!.png')"
      ],
      "metadata": {
        "colab": {
          "base_uri": "https://localhost:8080/"
        },
        "id": "CIWrNgdREIM9",
        "outputId": "c4fc6f02-172e-41ba-e70d-c60ab787754e"
      },
      "id": "CIWrNgdREIM9",
      "execution_count": null,
      "outputs": [
        {
          "output_type": "stream",
          "name": "stdout",
          "text": [
            "828 36\n",
            "['a', 'b', 'c', 'comma', 'd', 'e', 'exclamation_point', 'f', 'g', 'h', 'i', 'j', 'k', 'l', 'm', 'n', 'o', 'p', 'period', 'q', 'question_mark', 'r', 's', 'space', 't', 'u', 'upper', 'v', 'w', 'x', 'y', 'z']\n",
            "1/1 [==============================] - 0s 85ms/step\n",
            "['a', 'b', 'c', 'comma', 'd', 'e', 'exclamation_point', 'f', 'g', 'h', 'i', 'j', 'k', 'l', 'm', 'n', 'o', 'p', 'period', 'q', 'question_mark', 'r', 's', 'space', 't', 'u', 'upper', 'v', 'w', 'x', 'y', 'z']\n",
            "1/1 [==============================] - 0s 85ms/step\n",
            "W\n",
            "['a', 'b', 'c', 'comma', 'd', 'e', 'exclamation_point', 'f', 'g', 'h', 'i', 'j', 'k', 'l', 'm', 'n', 'o', 'p', 'period', 'q', 'question_mark', 'r', 's', 'space', 't', 'u', 'upper', 'v', 'w', 'x', 'y', 'z']\n",
            "1/1 [==============================] - 0s 83ms/step\n",
            "e\n",
            "['a', 'b', 'c', 'comma', 'd', 'e', 'exclamation_point', 'f', 'g', 'h', 'i', 'j', 'k', 'l', 'm', 'n', 'o', 'p', 'period', 'q', 'question_mark', 'r', 's', 'space', 't', 'u', 'upper', 'v', 'w', 'x', 'y', 'z']\n",
            "1/1 [==============================] - 0s 85ms/step\n",
            "l\n",
            "['a', 'b', 'c', 'comma', 'd', 'e', 'exclamation_point', 'f', 'g', 'h', 'i', 'j', 'k', 'l', 'm', 'n', 'o', 'p', 'period', 'q', 'question_mark', 'r', 's', 'space', 't', 'u', 'upper', 'v', 'w', 'x', 'y', 'z']\n",
            "1/1 [==============================] - 0s 88ms/step\n",
            "c\n",
            "['a', 'b', 'c', 'comma', 'd', 'e', 'exclamation_point', 'f', 'g', 'h', 'i', 'j', 'k', 'l', 'm', 'n', 'o', 'p', 'period', 'q', 'question_mark', 'r', 's', 'space', 't', 'u', 'upper', 'v', 'w', 'x', 'y', 'z']\n",
            "1/1 [==============================] - 0s 86ms/step\n",
            "o\n",
            "['a', 'b', 'c', 'comma', 'd', 'e', 'exclamation_point', 'f', 'g', 'h', 'i', 'j', 'k', 'l', 'm', 'n', 'o', 'p', 'period', 'q', 'question_mark', 'r', 's', 'space', 't', 'u', 'upper', 'v', 'w', 'x', 'y', 'z']\n",
            "1/1 [==============================] - 0s 85ms/step\n",
            "m\n",
            "['a', 'b', 'c', 'comma', 'd', 'e', 'exclamation_point', 'f', 'g', 'h', 'i', 'j', 'k', 'l', 'm', 'n', 'o', 'p', 'period', 'q', 'question_mark', 'r', 's', 'space', 't', 'u', 'upper', 'v', 'w', 'x', 'y', 'z']\n",
            "1/1 [==============================] - 0s 97ms/step\n",
            "e\n",
            "['a', 'b', 'c', 'comma', 'd', 'e', 'exclamation_point', 'f', 'g', 'h', 'i', 'j', 'k', 'l', 'm', 'n', 'o', 'p', 'period', 'q', 'question_mark', 'r', 's', 'space', 't', 'u', 'upper', 'v', 'w', 'x', 'y', 'z']\n",
            "1/1 [==============================] - 0s 88ms/step\n",
            " \n",
            "['a', 'b', 'c', 'comma', 'd', 'e', 'exclamation_point', 'f', 'g', 'h', 'i', 'j', 'k', 'l', 'm', 'n', 'o', 'p', 'period', 'q', 'question_mark', 'r', 's', 'space', 't', 'u', 'upper', 'v', 'w', 'x', 'y', 'z']\n",
            "1/1 [==============================] - 0s 92ms/step\n",
            "t\n",
            "['a', 'b', 'c', 'comma', 'd', 'e', 'exclamation_point', 'f', 'g', 'h', 'i', 'j', 'k', 'l', 'm', 'n', 'o', 'p', 'period', 'q', 'question_mark', 'r', 's', 'space', 't', 'u', 'upper', 'v', 'w', 'x', 'y', 'z']\n",
            "1/1 [==============================] - 0s 98ms/step\n",
            "o\n",
            "['a', 'b', 'c', 'comma', 'd', 'e', 'exclamation_point', 'f', 'g', 'h', 'i', 'j', 'k', 'l', 'm', 'n', 'o', 'p', 'period', 'q', 'question_mark', 'r', 's', 'space', 't', 'u', 'upper', 'v', 'w', 'x', 'y', 'z']\n",
            "1/1 [==============================] - 0s 88ms/step\n",
            " \n",
            "['a', 'b', 'c', 'comma', 'd', 'e', 'exclamation_point', 'f', 'g', 'h', 'i', 'j', 'k', 'l', 'm', 'n', 'o', 'p', 'period', 'q', 'question_mark', 'r', 's', 'space', 't', 'u', 'upper', 'v', 'w', 'x', 'y', 'z']\n",
            "1/1 [==============================] - 0s 85ms/step\n",
            "['a', 'b', 'c', 'comma', 'd', 'e', 'exclamation_point', 'f', 'g', 'h', 'i', 'j', 'k', 'l', 'm', 'n', 'o', 'p', 'period', 'q', 'question_mark', 'r', 's', 'space', 't', 'u', 'upper', 'v', 'w', 'x', 'y', 'z']\n",
            "1/1 [==============================] - 0s 110ms/step\n",
            "A\n",
            "['a', 'b', 'c', 'comma', 'd', 'e', 'exclamation_point', 'f', 'g', 'h', 'i', 'j', 'k', 'l', 'm', 'n', 'o', 'p', 'period', 'q', 'question_mark', 'r', 's', 'space', 't', 'u', 'upper', 'v', 'w', 'x', 'y', 'z']\n",
            "1/1 [==============================] - 0s 85ms/step\n",
            "['a', 'b', 'c', 'comma', 'd', 'e', 'exclamation_point', 'f', 'g', 'h', 'i', 'j', 'k', 'l', 'm', 'n', 'o', 'p', 'period', 'q', 'question_mark', 'r', 's', 'space', 't', 'u', 'upper', 'v', 'w', 'x', 'y', 'z']\n",
            "1/1 [==============================] - 0s 86ms/step\n",
            "I\n",
            "['a', 'b', 'c', 'comma', 'd', 'e', 'exclamation_point', 'f', 'g', 'h', 'i', 'j', 'k', 'l', 'm', 'n', 'o', 'p', 'period', 'q', 'question_mark', 'r', 's', 'space', 't', 'u', 'upper', 'v', 'w', 'x', 'y', 'z']\n",
            "1/1 [==============================] - 0s 93ms/step\n",
            " \n",
            "['a', 'b', 'c', 'comma', 'd', 'e', 'exclamation_point', 'f', 'g', 'h', 'i', 'j', 'k', 'l', 'm', 'n', 'o', 'p', 'period', 'q', 'question_mark', 'r', 's', 'space', 't', 'u', 'upper', 'v', 'w', 'x', 'y', 'z']\n",
            "1/1 [==============================] - 0s 86ms/step\n",
            "c\n",
            "['a', 'b', 'c', 'comma', 'd', 'e', 'exclamation_point', 'f', 'g', 'h', 'i', 'j', 'k', 'l', 'm', 'n', 'o', 'p', 'period', 'q', 'question_mark', 'r', 's', 'space', 't', 'u', 'upper', 'v', 'w', 'x', 'y', 'z']\n",
            "1/1 [==============================] - 0s 86ms/step\n",
            "l\n",
            "['a', 'b', 'c', 'comma', 'd', 'e', 'exclamation_point', 'f', 'g', 'h', 'i', 'j', 'k', 'l', 'm', 'n', 'o', 'p', 'period', 'q', 'question_mark', 'r', 's', 'space', 't', 'u', 'upper', 'v', 'w', 'x', 'y', 'z']\n",
            "1/1 [==============================] - 0s 85ms/step\n",
            "a\n",
            "['a', 'b', 'c', 'comma', 'd', 'e', 'exclamation_point', 'f', 'g', 'h', 'i', 'j', 'k', 'l', 'm', 'n', 'o', 'p', 'period', 'q', 'question_mark', 'r', 's', 'space', 't', 'u', 'upper', 'v', 'w', 'x', 'y', 'z']\n",
            "1/1 [==============================] - 0s 83ms/step\n",
            "s\n",
            "['a', 'b', 'c', 'comma', 'd', 'e', 'exclamation_point', 'f', 'g', 'h', 'i', 'j', 'k', 'l', 'm', 'n', 'o', 'p', 'period', 'q', 'question_mark', 'r', 's', 'space', 't', 'u', 'upper', 'v', 'w', 'x', 'y', 'z']\n",
            "1/1 [==============================] - 0s 81ms/step\n",
            "s\n",
            "['a', 'b', 'c', 'comma', 'd', 'e', 'exclamation_point', 'f', 'g', 'h', 'i', 'j', 'k', 'l', 'm', 'n', 'o', 'p', 'period', 'q', 'question_mark', 'r', 's', 'space', 't', 'u', 'upper', 'v', 'w', 'x', 'y', 'z']\n",
            "1/1 [==============================] - 0s 83ms/step\n",
            "!\n"
          ]
        }
      ]
    },
    {
      "cell_type": "code",
      "source": [
        "result"
      ],
      "metadata": {
        "id": "mSvmv92TEWUL",
        "colab": {
          "base_uri": "https://localhost:8080/",
          "height": 36
        },
        "outputId": "8323dd19-78da-4f03-cbd1-819511116618"
      },
      "id": "mSvmv92TEWUL",
      "execution_count": null,
      "outputs": [
        {
          "output_type": "execute_result",
          "data": {
            "text/plain": [
              "'Welcome to AI class!'"
            ],
            "application/vnd.google.colaboratory.intrinsic+json": {
              "type": "string"
            }
          },
          "metadata": {},
          "execution_count": 60
        }
      ]
    }
  ],
  "metadata": {
    "kernelspec": {
      "display_name": "Python 3 (ipykernel)",
      "language": "python",
      "name": "python3"
    },
    "language_info": {
      "codemirror_mode": {
        "name": "ipython",
        "version": 3
      },
      "file_extension": ".py",
      "mimetype": "text/x-python",
      "name": "python",
      "nbconvert_exporter": "python",
      "pygments_lexer": "ipython3",
      "version": "3.10.7"
    },
    "colab": {
      "provenance": [],
      "collapsed_sections": [
        "Rgt0rdJzzD5E"
      ],
      "include_colab_link": true
    },
    "accelerator": "GPU",
    "gpuClass": "standard"
  },
  "nbformat": 4,
  "nbformat_minor": 5
}