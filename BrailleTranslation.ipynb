{
  "cells": [
    {
      "cell_type": "markdown",
      "metadata": {
        "id": "view-in-github",
        "colab_type": "text"
      },
      "source": [
        "<a href=\"https://colab.research.google.com/github/Kim-Jong-Gyu/AI-teamProject-brailleTranslation/blob/main/BrailleTranslation.ipynb\" target=\"_parent\"><img src=\"https://colab.research.google.com/assets/colab-badge.svg\" alt=\"Open In Colab\"/></a>"
      ]
    },
    {
      "cell_type": "markdown",
      "source": [
        "***\n",
        "# AI Team Project\n",
        "## 16102269 Kim Jong Gyu\n",
        "## 19102095 Lee Do Hui\n",
        "***\n",
        "\n",
        "# **1. Motivation For The Proeject**\n",
        "# **2. Problem Description**\n",
        "# **3. Data Description**\n",
        "*   ~~Preferentially, I use braille notation in English dataset in Kaggle~~\n",
        "  *   ~~Reference : https://www.kaggle.com/code/kwisatzhaderach/braille-classifier-keras/data~~\n",
        "*   \n",
        "\n",
        "# **4. Detection Processing**"
      ],
      "metadata": {
        "id": "Rgt0rdJzzD5E"
      },
      "id": "Rgt0rdJzzD5E"
    },
    {
      "cell_type": "markdown",
      "source": [
        "# **4-1. Exisiting Model**"
      ],
      "metadata": {
        "id": "s5xwI-BMYt4i"
      },
      "id": "s5xwI-BMYt4i"
    },
    {
      "cell_type": "code",
      "source": [
        "# Existing Model\n",
        "from google.colab import drive\n",
        "\n",
        "drive.mount('/content/gdrive')\n"
      ],
      "metadata": {
        "colab": {
          "base_uri": "https://localhost:8080/"
        },
        "id": "Da3_Dktt3fZ7",
        "outputId": "f700a1db-e194-43fd-d237-d163afeea554"
      },
      "id": "Da3_Dktt3fZ7",
      "execution_count": null,
      "outputs": [
        {
          "output_type": "stream",
          "name": "stdout",
          "text": [
            "Mounted at /content/gdrive\n"
          ]
        }
      ]
    },
    {
      "cell_type": "code",
      "source": [
        "ls"
      ],
      "metadata": {
        "colab": {
          "base_uri": "https://localhost:8080/"
        },
        "id": "41ln-GQU5InH",
        "outputId": "010ac567-e757-4e50-e03c-e8864e10ca39"
      },
      "id": "41ln-GQU5InH",
      "execution_count": null,
      "outputs": [
        {
          "output_type": "stream",
          "name": "stdout",
          "text": [
            "\u001b[0m\u001b[01;34mgdrive\u001b[0m/  \u001b[01;34mimages\u001b[0m/  \u001b[01;34msample_data\u001b[0m/\n"
          ]
        }
      ]
    },
    {
      "cell_type": "code",
      "source": [
        "import os\n",
        "import numpy as np\n",
        "import pandas as pd\n",
        "from shutil import copyfile\n",
        "\n",
        "rootdir = '/content/gdrive/MyDrive/AI_TeamProject/AI-teamProject-brailleTranslation/'\n",
        "alpha = 'a'\n",
        "for i in range(0, 26): \n",
        "    os.mkdir(rootdir+ 'exstingdataset' + alpha)\n",
        "    alpha = chr(ord(alpha) + 1)\n",
        "\n",
        "rootdir = '/content/gdrive/MyDrive/AI/AI_TeamProjeect/Braille Dataset/Braille Dataset/'\n",
        "for file in os.listdir(rootdir):\n",
        "    letter = file[0]\n",
        "    copyfile(rootdir+file, './images/' + letter + '/' + file) "
      ],
      "metadata": {
        "id": "wOcIBsvW1hQz",
        "colab": {
          "base_uri": "https://localhost:8080/",
          "height": 243
        },
        "outputId": "25cfb9ca-0458-42e1-d010-ef32c4e9dd5b"
      },
      "id": "wOcIBsvW1hQz",
      "execution_count": null,
      "outputs": [
        {
          "output_type": "error",
          "ename": "FileExistsError",
          "evalue": "ignored",
          "traceback": [
            "\u001b[0;31m---------------------------------------------------------------------------\u001b[0m",
            "\u001b[0;31mFileExistsError\u001b[0m                           Traceback (most recent call last)",
            "\u001b[0;32m<ipython-input-5-d3cf6435b55c>\u001b[0m in \u001b[0;36m<module>\u001b[0;34m\u001b[0m\n\u001b[1;32m      4\u001b[0m \u001b[0;32mfrom\u001b[0m \u001b[0mshutil\u001b[0m \u001b[0;32mimport\u001b[0m \u001b[0mcopyfile\u001b[0m\u001b[0;34m\u001b[0m\u001b[0;34m\u001b[0m\u001b[0m\n\u001b[1;32m      5\u001b[0m \u001b[0;34m\u001b[0m\u001b[0m\n\u001b[0;32m----> 6\u001b[0;31m \u001b[0mos\u001b[0m\u001b[0;34m.\u001b[0m\u001b[0mmkdir\u001b[0m\u001b[0;34m(\u001b[0m\u001b[0;34m'./images/'\u001b[0m\u001b[0;34m)\u001b[0m\u001b[0;34m\u001b[0m\u001b[0;34m\u001b[0m\u001b[0m\n\u001b[0m\u001b[1;32m      7\u001b[0m \u001b[0malpha\u001b[0m \u001b[0;34m=\u001b[0m \u001b[0;34m'a'\u001b[0m\u001b[0;34m\u001b[0m\u001b[0;34m\u001b[0m\u001b[0m\n\u001b[1;32m      8\u001b[0m \u001b[0;32mfor\u001b[0m \u001b[0mi\u001b[0m \u001b[0;32min\u001b[0m \u001b[0mrange\u001b[0m\u001b[0;34m(\u001b[0m\u001b[0;36m0\u001b[0m\u001b[0;34m,\u001b[0m \u001b[0;36m26\u001b[0m\u001b[0;34m)\u001b[0m\u001b[0;34m:\u001b[0m\u001b[0;34m\u001b[0m\u001b[0;34m\u001b[0m\u001b[0m\n",
            "\u001b[0;31mFileExistsError\u001b[0m: [Errno 17] File exists: './images/'"
          ]
        }
      ]
    },
    {
      "cell_type": "code",
      "source": [
        "from keras.preprocessing.image import ImageDataGenerator\n",
        "datagen = ImageDataGenerator(rotation_range=20,\n",
        "                             shear_range=10,\n",
        "                             validation_split=0.2)\n",
        "\n",
        "train_generator = datagen.flow_from_directory('./images/',\n",
        "                                              target_size=(28,28),\n",
        "                                              subset='training')\n",
        "\n",
        "val_generator = datagen.flow_from_directory('./images/',\n",
        "                                            target_size=(28,28),\n",
        "                                            subset='validation')"
      ],
      "metadata": {
        "colab": {
          "base_uri": "https://localhost:8080/"
        },
        "id": "AJGUN92g5xt_",
        "outputId": "c234f0b8-1904-48ba-c404-35283ac5e3db"
      },
      "id": "AJGUN92g5xt_",
      "execution_count": null,
      "outputs": [
        {
          "output_type": "stream",
          "name": "stdout",
          "text": [
            "Found 1248 images belonging to 26 classes.\n",
            "Found 312 images belonging to 26 classes.\n"
          ]
        }
      ]
    },
    {
      "cell_type": "code",
      "source": [
        "from keras import backend as K\n",
        "from keras import layers as L\n",
        "from keras.models import Model,load_model\n",
        "from keras.regularizers import l2\n",
        "from keras.callbacks import ModelCheckpoint,ReduceLROnPlateau,EarlyStopping\n",
        "\n",
        "K.clear_session()\n",
        "\n",
        "model_ckpt = ModelCheckpoint('BrailleNet.h5',save_best_only=True)\n",
        "reduce_lr = ReduceLROnPlateau(patience=8,verbose=0)\n",
        "early_stop = EarlyStopping(patience=15,verbose=1)\n",
        "\n",
        "entry = L.Input(shape=(28,28,3))\n",
        "x = L.SeparableConv2D(64,(3,3),activation='relu')(entry)\n",
        "x = L.MaxPooling2D((2,2))(x)\n",
        "x = L.SeparableConv2D(128,(3,3),activation='relu')(x)\n",
        "x = L.MaxPooling2D((2,2))(x)\n",
        "x = L.SeparableConv2D(256,(2,2),activation='relu')(x)\n",
        "x = L.GlobalMaxPooling2D()(x)\n",
        "x = L.Dense(256)(x)\n",
        "x = L.LeakyReLU()(x)\n",
        "x = L.Dense(64,kernel_regularizer=l2(2e-4))(x)\n",
        "x = L.LeakyReLU()(x)\n",
        "x = L.Dense(26,activation='softmax')(x)\n",
        "\n",
        "model = Model(entry,x)\n",
        "model.compile(loss='categorical_crossentropy',optimizer='adam',metrics=['accuracy'])\n",
        "\n",
        "history = model.fit_generator(train_generator,validation_data=val_generator,epochs=666,\n",
        "                              callbacks=[model_ckpt,reduce_lr,early_stop],verbose=0)"
      ],
      "metadata": {
        "colab": {
          "base_uri": "https://localhost:8080/"
        },
        "id": "AHw5UXZi6x6D",
        "outputId": "be526a65-3482-469e-a3ba-10b51d6c491f"
      },
      "id": "AHw5UXZi6x6D",
      "execution_count": null,
      "outputs": [
        {
          "output_type": "stream",
          "name": "stderr",
          "text": [
            "/usr/local/lib/python3.7/dist-packages/ipykernel_launcher.py:30: UserWarning: `Model.fit_generator` is deprecated and will be removed in a future version. Please use `Model.fit`, which supports generators.\n"
          ]
        },
        {
          "output_type": "stream",
          "name": "stdout",
          "text": [
            "Epoch 68: early stopping\n"
          ]
        }
      ]
    },
    {
      "cell_type": "code",
      "source": [
        "model = load_model('BrailleNet.h5')\n",
        "acc = model.evaluate_generator(val_generator)[1]\n",
        "print('model accuracy: {}'.format(round(acc,4)))"
      ],
      "metadata": {
        "colab": {
          "base_uri": "https://localhost:8080/"
        },
        "id": "KanBi5gp8Fzc",
        "outputId": "62962328-8b4e-4a59-8e44-ac32e13c99c1"
      },
      "id": "KanBi5gp8Fzc",
      "execution_count": null,
      "outputs": [
        {
          "output_type": "stream",
          "name": "stderr",
          "text": [
            "/usr/local/lib/python3.7/dist-packages/ipykernel_launcher.py:2: UserWarning: `Model.evaluate_generator` is deprecated and will be removed in a future version. Please use `Model.evaluate`, which supports generators.\n",
            "  \n"
          ]
        },
        {
          "output_type": "stream",
          "name": "stdout",
          "text": [
            "model accuracy: 0.9295\n"
          ]
        }
      ]
    },
    {
      "cell_type": "markdown",
      "source": [
        "# **4-2. New Model**"
      ],
      "metadata": {
        "id": "oMRV4kAST9sC"
      },
      "id": "oMRV4kAST9sC"
    },
    {
      "cell_type": "code",
      "source": [
        "from google.colab import drive\n",
        "\n",
        "drive.mount('/content/drive',force_remount=True)\n"
      ],
      "metadata": {
        "colab": {
          "base_uri": "https://localhost:8080/"
        },
        "id": "IXW64YVJZI6O",
        "outputId": "ce6b095d-98c0-4e0b-89b5-cd07626383ed"
      },
      "id": "IXW64YVJZI6O",
      "execution_count": 7,
      "outputs": [
        {
          "output_type": "stream",
          "name": "stdout",
          "text": [
            "Mounted at /content/drive\n"
          ]
        }
      ]
    },
    {
      "cell_type": "markdown",
      "source": [
        "(1) 데이터 부풀리기"
      ],
      "metadata": {
        "id": "jYJSs9aQyWt5"
      },
      "id": "jYJSs9aQyWt5"
    },
    {
      "cell_type": "code",
      "source": [
        "import os\n",
        "\n",
        "file_path = '/content/drive/MyDrive/AI_TeamProject/AI-teamProject-brailleTranslation'\n",
        "\n",
        "def createFolder(directory):\n",
        "      if not os.path.exists(directory):\n",
        "          os.makedirs(directory)\n",
        "\n",
        "createFolder(file_path+'/new_dataset')"
      ],
      "metadata": {
        "id": "M0ljwRlOyrSS"
      },
      "id": "M0ljwRlOyrSS",
      "execution_count": null,
      "outputs": []
    },
    {
      "cell_type": "code",
      "source": [
        "import tensorflow as tf\n",
        "from tensorflow.keras.preprocessing.image import ImageDataGenerator, img_to_array, load_img\n",
        "\n",
        "print(tf.__version__)"
      ],
      "metadata": {
        "colab": {
          "base_uri": "https://localhost:8080/"
        },
        "id": "JEQru5wAuFJg",
        "outputId": "f91615f7-e421-4076-ede2-dff7fa48414a"
      },
      "id": "JEQru5wAuFJg",
      "execution_count": null,
      "outputs": [
        {
          "output_type": "stream",
          "name": "stdout",
          "text": [
            "2.9.2\n"
          ]
        }
      ]
    },
    {
      "cell_type": "code",
      "source": [
        "import tensorflow as tf\n",
        "from tensorflow.keras.preprocessing.image import ImageDataGenerator, img_to_array, load_img\n",
        "\n",
        "datagen = ImageDataGenerator(\n",
        "        rotation_range=5,\n",
        "        width_shift_range=0.1,\n",
        "        height_shift_range=0.1,\n",
        "        shear_range=0.05,\n",
        "        zoom_range=0.01,\n",
        "        fill_mode='constant',\n",
        "        cval=255\n",
        "        )\n",
        "\n",
        "def newGenerateData():\n",
        "  files = os.listdir(file_path + '/dataset')\n",
        "  for file in files:\n",
        "    if(os.path.splitext(file)[1] == '.png'):\n",
        "      filename = os.path.splitext(file)[0]\n",
        "      createFolder(file_path + '/new_dataset/'+ filename)\n",
        "      img = load_img(file_path+'/dataset/'+file)  # PIL 이미지\n",
        "      x = img_to_array(img)\n",
        "      x = x.reshape((1,) + x.shape)\n",
        "      if file == 'space.png':\n",
        "        import shutil\n",
        "        for _ in range(10):\n",
        "          print(_,file, file_path +'/dataset/'+file)\n",
        "          shutil.copy(file_path+'/dataset/'+file, file_path + '/new_dataset/'+ filename + '/' + filename + str(_) + '.jpg')\n",
        "      else:\n",
        "        i = 0\n",
        "        for batch in datagen.flow(x, batch_size=1, save_to_dir= file_path + '/new_dataset/'+ filename, save_prefix=filename, save_format='jpg'):\n",
        "          i += 1\n",
        "          if i > 20:\n",
        "            break  # 이미지 20장을 생성하고 마칩니다\n",
        "\n",
        "newGenerateData()\n"
      ],
      "metadata": {
        "id": "tTx2qXbSZfQz",
        "colab": {
          "base_uri": "https://localhost:8080/"
        },
        "outputId": "f3f1eb5d-7e0e-4467-dff8-836a45a62d44"
      },
      "id": "tTx2qXbSZfQz",
      "execution_count": null,
      "outputs": [
        {
          "output_type": "stream",
          "name": "stdout",
          "text": [
            "0 space.png /content/drive/MyDrive/AI_TeamProject/AI-teamProject-brailleTranslation/dataset/space.png\n",
            "1 space.png /content/drive/MyDrive/AI_TeamProject/AI-teamProject-brailleTranslation/dataset/space.png\n",
            "2 space.png /content/drive/MyDrive/AI_TeamProject/AI-teamProject-brailleTranslation/dataset/space.png\n",
            "3 space.png /content/drive/MyDrive/AI_TeamProject/AI-teamProject-brailleTranslation/dataset/space.png\n",
            "4 space.png /content/drive/MyDrive/AI_TeamProject/AI-teamProject-brailleTranslation/dataset/space.png\n",
            "5 space.png /content/drive/MyDrive/AI_TeamProject/AI-teamProject-brailleTranslation/dataset/space.png\n",
            "6 space.png /content/drive/MyDrive/AI_TeamProject/AI-teamProject-brailleTranslation/dataset/space.png\n",
            "7 space.png /content/drive/MyDrive/AI_TeamProject/AI-teamProject-brailleTranslation/dataset/space.png\n",
            "8 space.png /content/drive/MyDrive/AI_TeamProject/AI-teamProject-brailleTranslation/dataset/space.png\n",
            "9 space.png /content/drive/MyDrive/AI_TeamProject/AI-teamProject-brailleTranslation/dataset/space.png\n"
          ]
        }
      ]
    },
    {
      "cell_type": "markdown",
      "source": [
        "(2) Generator에 넣어 학습 준비"
      ],
      "metadata": {
        "id": "g4-0-UX00UEG"
      },
      "id": "g4-0-UX00UEG"
    },
    {
      "cell_type": "code",
      "source": [
        "from keras_preprocessing.image import ImageDataGenerator\n",
        "\n",
        "def data_ready():\n",
        "    images_dir = '/content/drive/MyDrive/AI_TeamProject/AI-teamProject-brailleTranslation/new_dataset'\n",
        "\n",
        "    datagen = ImageDataGenerator(rotation_range=5,\n",
        "                                 shear_range=5,\n",
        "                                 validation_split=0.2,\n",
        "                                 ) #20%를 검증모델로 사용.\n",
        "\n",
        "    train_generator = datagen.flow_from_directory(images_dir,\n",
        "                                                  target_size=(36,36),\n",
        "                                                  subset='training')\n",
        "\n",
        "    val_generator = datagen.flow_from_directory(images_dir,\n",
        "                                                target_size=(36,36),\n",
        "                                                subset='validation')\n",
        "\n",
        "    return train_generator, val_generator\n",
        "\n",
        "def load_image(img_path):\n",
        "    images_dir = img_path\n",
        "    datagen = ImageDataGenerator()\n",
        "    real_generator = datagen.flow_from_directory(images_dir,\n",
        "                                                 target_size=(36, 36))\n",
        "\n",
        "    return real_generator"
      ],
      "metadata": {
        "id": "Gx_iBVCzp14j"
      },
      "id": "Gx_iBVCzp14j",
      "execution_count": 8,
      "outputs": []
    },
    {
      "cell_type": "markdown",
      "source": [
        "(3) 모델 생성 "
      ],
      "metadata": {
        "id": "E63aUj2Q03b2"
      },
      "id": "E63aUj2Q03b2"
    },
    {
      "cell_type": "code",
      "source": [
        "from tensorflow.keras import backend as K\n",
        "from tensorflow.keras import layers as L\n",
        "from tensorflow.keras.models import Model\n",
        "from tensorflow.keras.regularizers import l2\n",
        "from tensorflow.keras.callbacks import ModelCheckpoint,ReduceLROnPlateau,EarlyStopping\n",
        "\n",
        "def Make_model(train,val):\n",
        "    K.clear_session()\n",
        "\n",
        "    model_ckpt = ModelCheckpoint('/content/drive/MyDrive/AI_TeamProject/AI-teamProject-brailleTranslation/BrailleNet.h5',save_best_only=True)\n",
        "    reduce_lr = ReduceLROnPlateau(patience=8,verbose=1)\n",
        "    early_stop = EarlyStopping(patience=5,verbose=2,monitor='accuracy')\n",
        "\n",
        "    entry = L.Input(shape=(36,36,3))\n",
        "    x = L.SeparableConv2D(128, (10,10), activation='relu', padding='same')(entry)\n",
        "    x = L.MaxPooling2D((2, 2))(x)\n",
        "    x = L.SeparableConv2D(256,(10,10),activation='relu',padding ='same')(x)\n",
        "    x = L.MaxPooling2D((2,2))(x)\n",
        "    x = L.SeparableConv2D(512,(10,10),activation='relu',padding ='same')(x)\n",
        "    x = L.GlobalMaxPooling2D()(x)\n",
        "\n",
        "    x = L.Dense(512)(x)\n",
        "    x = L.LeakyReLU()(x)\n",
        "    x = L.Dense(256)(x)\n",
        "    x = L.ReLU()(x)\n",
        "    x = L.Dense(128,kernel_regularizer=l2(2e-4))(x)\n",
        "    x = L.ReLU()(x)\n",
        "    x = L.Dense(32,activation='softmax')(x)\n",
        "\n",
        "    model = Model(entry,x)\n",
        "    model.compile(loss='categorical_crossentropy',optimizer='adam',metrics=['accuracy'])\n",
        "\n",
        "    history = model.fit_generator(train,validation_data=val,epochs=60,\n",
        "                                  callbacks=[model_ckpt,reduce_lr,early_stop],verbose=1)\n",
        "    \n",
        "    return history\n"
      ],
      "metadata": {
        "id": "NFKDS9LIiLjD"
      },
      "id": "NFKDS9LIiLjD",
      "execution_count": 18,
      "outputs": []
    },
    {
      "cell_type": "markdown",
      "source": [
        "(4) 모델 결과 도식화"
      ],
      "metadata": {
        "id": "9C9W8jQk1ENC"
      },
      "id": "9C9W8jQk1ENC"
    },
    {
      "cell_type": "code",
      "source": [
        "def print_acc_loss(history):\n",
        "    # 평가 결과 도식화\n",
        "    import matplotlib.pyplot as plt\n",
        "    fig, loss_ax = plt.subplots(figsize=(10, 5))\n",
        "    acc_ax = loss_ax.twinx()\n",
        "    loss_ax.plot(history.history['loss'], 'y', label='train loss')\n",
        "    loss_ax.plot(history.history['val_loss'], 'r', label='val loss')\n",
        "    acc_ax.plot(history.history['accuracy'], 'b', label='train acc')\n",
        "    acc_ax.plot(history.history['val_accuracy'], 'g', label='val acc')\n",
        "    loss_ax.set_xlabel('epoch')\n",
        "    loss_ax.set_ylabel('loss')\n",
        "    acc_ax.set_ylabel('accuray')\n",
        "    loss_ax.legend(loc='upper left')\n",
        "    acc_ax.legend(loc='lower left')\n",
        "\n",
        "    plt.show()"
      ],
      "metadata": {
        "id": "bgpcV8jC1HL7"
      },
      "id": "bgpcV8jC1HL7",
      "execution_count": 10,
      "outputs": []
    },
    {
      "cell_type": "markdown",
      "source": [
        "(5) 모델 불러오기 , 정확도 확인"
      ],
      "metadata": {
        "id": "o5ro0cGz1Z0I"
      },
      "id": "o5ro0cGz1Z0I"
    },
    {
      "cell_type": "code",
      "source": [
        "def load_model(model_name):\n",
        "    from keras.models import load_model\n",
        "    model = load_model('/content/drive/MyDrive/AI_TeamProject/AI-teamProject-brailleTranslation/' + model_name)\n",
        "    return model\n",
        "\n",
        "def acc_chk(model, val):\n",
        "    acc = model.evaluate_generator(val)[1]\n",
        "    print('model accuracy: {}'.format(round(acc,4)))"
      ],
      "metadata": {
        "id": "6ThH7V_pwv9Q"
      },
      "id": "6ThH7V_pwv9Q",
      "execution_count": 19,
      "outputs": []
    },
    {
      "cell_type": "markdown",
      "source": [
        "(6) 학습 시작"
      ],
      "metadata": {
        "id": "poJN61nh1dRe"
      },
      "id": "poJN61nh1dRe"
    },
    {
      "cell_type": "code",
      "source": [
        "os.getcwd()"
      ],
      "metadata": {
        "colab": {
          "base_uri": "https://localhost:8080/",
          "height": 36
        },
        "id": "oCsF-NE-2yCa",
        "outputId": "7df0dc33-e1ab-4a7f-c4ff-0de4143b4528"
      },
      "id": "oCsF-NE-2yCa",
      "execution_count": null,
      "outputs": [
        {
          "output_type": "execute_result",
          "data": {
            "text/plain": [
              "'/content'"
            ],
            "application/vnd.google.colaboratory.intrinsic+json": {
              "type": "string"
            }
          },
          "metadata": {},
          "execution_count": 24
        }
      ]
    },
    {
      "cell_type": "code",
      "source": [
        "train_generator, val_generator = data_ready()"
      ],
      "metadata": {
        "colab": {
          "base_uri": "https://localhost:8080/"
        },
        "id": "xGhabQZiw0C9",
        "outputId": "7c9d3fab-c5ac-4479-9e62-7601a29d6763"
      },
      "id": "xGhabQZiw0C9",
      "execution_count": 11,
      "outputs": [
        {
          "output_type": "stream",
          "name": "stdout",
          "text": [
            "Found 534 images belonging to 32 classes.\n",
            "Found 126 images belonging to 32 classes.\n"
          ]
        }
      ]
    },
    {
      "cell_type": "code",
      "source": [
        "hist = Make_model(train_generator,val_generator)"
      ],
      "metadata": {
        "colab": {
          "base_uri": "https://localhost:8080/"
        },
        "id": "I4oYVpJg3Gxz",
        "outputId": "76df6b9b-bb6b-4bcc-93ca-6de13d348b99"
      },
      "id": "I4oYVpJg3Gxz",
      "execution_count": 13,
      "outputs": [
        {
          "output_type": "stream",
          "name": "stderr",
          "text": [
            "<ipython-input-9-6c2eef26b2c7>:33: UserWarning: `Model.fit_generator` is deprecated and will be removed in a future version. Please use `Model.fit`, which supports generators.\n",
            "  history = model.fit_generator(train,validation_data=val,epochs=60,\n"
          ]
        },
        {
          "output_type": "stream",
          "name": "stdout",
          "text": [
            "Epoch 1/60\n",
            "17/17 [==============================] - 504s 29s/step - loss: 3.5169 - accuracy: 0.0281 - val_loss: 3.4847 - val_accuracy: 0.0317 - lr: 0.0010\n",
            "Epoch 2/60\n",
            "17/17 [==============================] - 2s 133ms/step - loss: 3.4866 - accuracy: 0.0337 - val_loss: 3.4580 - val_accuracy: 0.0873 - lr: 0.0010\n",
            "Epoch 3/60\n",
            "17/17 [==============================] - 2s 101ms/step - loss: 3.3537 - accuracy: 0.0805 - val_loss: 3.0424 - val_accuracy: 0.1190 - lr: 0.0010\n",
            "Epoch 4/60\n",
            "17/17 [==============================] - 2s 95ms/step - loss: 2.1885 - accuracy: 0.3390 - val_loss: 1.5624 - val_accuracy: 0.4524 - lr: 0.0010\n",
            "Epoch 5/60\n",
            "17/17 [==============================] - 2s 93ms/step - loss: 0.9106 - accuracy: 0.7303 - val_loss: 0.3532 - val_accuracy: 0.9127 - lr: 0.0010\n",
            "Epoch 6/60\n",
            "17/17 [==============================] - 2s 95ms/step - loss: 0.5301 - accuracy: 0.8577 - val_loss: 0.3266 - val_accuracy: 0.9286 - lr: 0.0010\n",
            "Epoch 7/60\n",
            "17/17 [==============================] - 2s 95ms/step - loss: 0.2350 - accuracy: 0.9363 - val_loss: 0.1354 - val_accuracy: 0.9524 - lr: 0.0010\n",
            "Epoch 8/60\n",
            "17/17 [==============================] - 2s 95ms/step - loss: 0.0532 - accuracy: 0.9888 - val_loss: 0.0246 - val_accuracy: 1.0000 - lr: 0.0010\n",
            "Epoch 9/60\n",
            "17/17 [==============================] - 2s 96ms/step - loss: 0.0243 - accuracy: 0.9981 - val_loss: 0.0203 - val_accuracy: 1.0000 - lr: 0.0010\n",
            "Epoch 10/60\n",
            "17/17 [==============================] - 2s 88ms/step - loss: 0.0356 - accuracy: 0.9925 - val_loss: 0.0464 - val_accuracy: 0.9921 - lr: 0.0010\n",
            "Epoch 11/60\n",
            "17/17 [==============================] - 2s 94ms/step - loss: 0.0638 - accuracy: 0.9869 - val_loss: 0.0203 - val_accuracy: 1.0000 - lr: 0.0010\n",
            "Epoch 12/60\n",
            "17/17 [==============================] - 2s 93ms/step - loss: 0.0206 - accuracy: 1.0000 - val_loss: 0.0135 - val_accuracy: 1.0000 - lr: 0.0010\n",
            "Epoch 13/60\n",
            "17/17 [==============================] - 2s 94ms/step - loss: 0.0138 - accuracy: 1.0000 - val_loss: 0.0130 - val_accuracy: 1.0000 - lr: 0.0010\n",
            "Epoch 14/60\n",
            "17/17 [==============================] - 2s 92ms/step - loss: 0.0134 - accuracy: 1.0000 - val_loss: 0.0125 - val_accuracy: 1.0000 - lr: 0.0010\n",
            "Epoch 15/60\n",
            "17/17 [==============================] - 1s 87ms/step - loss: 0.0123 - accuracy: 1.0000 - val_loss: 0.0127 - val_accuracy: 1.0000 - lr: 0.0010\n",
            "Epoch 16/60\n",
            "17/17 [==============================] - 2s 92ms/step - loss: 0.0121 - accuracy: 1.0000 - val_loss: 0.0118 - val_accuracy: 1.0000 - lr: 0.0010\n",
            "Epoch 17/60\n",
            "17/17 [==============================] - 2s 97ms/step - loss: 0.0118 - accuracy: 1.0000 - val_loss: 0.0117 - val_accuracy: 1.0000 - lr: 0.0010\n",
            "Epoch 17: early stopping\n"
          ]
        }
      ]
    },
    {
      "cell_type": "code",
      "source": [
        "print_acc_loss(hist)"
      ],
      "metadata": {
        "colab": {
          "base_uri": "https://localhost:8080/",
          "height": 334
        },
        "id": "zxYHngr0GEax",
        "outputId": "6cfe2538-e4ee-48bb-b0ba-f58d8cd7f775"
      },
      "id": "zxYHngr0GEax",
      "execution_count": 14,
      "outputs": [
        {
          "output_type": "display_data",
          "data": {
            "text/plain": [
              "<Figure size 720x360 with 2 Axes>"
            ],
            "image/png": "[encoded data removed]"
          },
          "metadata": {
            "needs_background": "light"
          }
        }
      ]
    },
    {
      "cell_type": "code",
      "source": [
        "model = load_model('BrailleNet.h5')\n",
        "acc_chk(model, val_generator)"
      ],
      "metadata": {
        "colab": {
          "base_uri": "https://localhost:8080/"
        },
        "id": "dINel95ZGj2O",
        "outputId": "05006622-b11a-494e-e9b9-ee3a4975125a"
      },
      "id": "dINel95ZGj2O",
      "execution_count": 20,
      "outputs": [
        {
          "output_type": "stream",
          "name": "stderr",
          "text": [
            "<ipython-input-19-1d6df054a99d>:7: UserWarning: `Model.evaluate_generator` is deprecated and will be removed in a future version. Please use `Model.evaluate`, which supports generators.\n",
            "  acc = model.evaluate_generator(val)[1]\n"
          ]
        },
        {
          "output_type": "stream",
          "name": "stdout",
          "text": [
            "model accuracy: 1.0\n"
          ]
        }
      ]
    },
    {
      "cell_type": "markdown",
      "source": [
        "# **5. Test**"
      ],
      "metadata": {
        "id": "dcK7etWF3SvE"
      },
      "id": "dcK7etWF3SvE"
    },
    {
      "cell_type": "code",
      "source": [
        "import PIL.Image as Img\n",
        "import numpy as np\n",
        "\n",
        "\n",
        "def get_test_img(path):\n",
        "  img = Img.open(path).convert('RGB')\n",
        "  img = img.resize((36,36))\n",
        "  x = img_to_array(img)\n",
        "  x = x.reshape((1,) + x.shape)\n",
        "\n",
        "  return x\n"
      ],
      "metadata": {
        "id": "tqrclPDvaShr"
      },
      "id": "tqrclPDvaShr",
      "execution_count": 25,
      "outputs": []
    },
    {
      "cell_type": "code",
      "source": [
        "from functools import update_wrapper\n",
        "import os\n",
        "from tensorflow.keras.preprocessing.image import ImageDataGenerator, img_to_array, load_img\n",
        "\n",
        "def decode_predict(result,labels):\n",
        "  max = np.max(result)\n",
        "  index = np.where(result == max)\n",
        "  return labels[index[1][0]]\n",
        "\n",
        "def translate(test_image):\n",
        "  dir = os.listdir('/content/drive/MyDrive/AI_TeamProject/AI-teamProject-brailleTranslation/dataset')\n",
        "  tmp = []\n",
        "  for file in dir:\n",
        "    if(os.path.splitext(file)[1] == '.png'):\n",
        "      tmp.append(file.split('.')[0])\n",
        "  dir = tmp\n",
        "  dir.sort()\n",
        "  print(dir)\n",
        "  model = load_model('BrailleNet.h5')\n",
        "  result = model.predict(test_image)\n",
        "  decoded = decode_predict(result,dir)\n",
        "  return(decoded)\n",
        "\n",
        "def convert_test_img(input_img):\n",
        "  img = input_img.convert('RGB')\n",
        "  img = img.resize((36,36))\n",
        "  x = img_to_array(img)\n",
        "  x = x.reshape((1,) + x.shape)\n",
        "  return x"
      ],
      "metadata": {
        "id": "mdk7yT0XbDDr"
      },
      "id": "mdk7yT0XbDDr",
      "execution_count": 49,
      "outputs": []
    },
    {
      "cell_type": "markdown",
      "source": [
        "# **5.1  Translate Character**"
      ],
      "metadata": {
        "id": "ROn0ca0L6wP9"
      },
      "id": "ROn0ca0L6wP9"
    },
    {
      "cell_type": "code",
      "source": [
        "import PIL.Image as Img\n",
        "test_file = '/content/drive/MyDrive/AI_TeamProject/AI-teamProject-brailleTranslation/testset/test_q.png'\n",
        "input = get_test_img(test_file)\n",
        "print(translate(input))"
      ],
      "metadata": {
        "colab": {
          "base_uri": "https://localhost:8080/"
        },
        "id": "yOhhYTXebEUa",
        "outputId": "da323c03-9aaf-434f-d450-bc3e7e6e0412"
      },
      "id": "yOhhYTXebEUa",
      "execution_count": 61,
      "outputs": [
        {
          "output_type": "stream",
          "name": "stdout",
          "text": [
            "['a', 'b', 'c', 'comma', 'd', 'e', 'exclamation_point', 'f', 'g', 'h', 'i', 'j', 'k', 'l', 'm', 'n', 'o', 'p', 'period', 'q', 'question_mark', 'r', 's', 'space', 't', 'u', 'upper', 'v', 'w', 'x', 'y', 'z']\n",
            "1/1 [==============================] - 0s 85ms/step\n",
            "q\n"
          ]
        }
      ]
    },
    {
      "cell_type": "markdown",
      "source": [
        "# **5.2  Making test case for sentence**"
      ],
      "metadata": {
        "id": "eAPkMp8X7o16"
      },
      "id": "eAPkMp8X7o16"
    },
    {
      "cell_type": "code",
      "source": [
        "#Make test datset\n",
        "import cv2\n",
        "import numpy as np\n",
        "\n",
        "def make_test(word):\n",
        "  path = '/content/drive/MyDrive/AI_TeamProject/AI-teamProject-brailleTranslation/dataset'\n",
        "  store_path = '/content/drive/MyDrive/AI_TeamProject/AI-teamProject-brailleTranslation/testset'\n",
        "  result_img = np.zeros((36,36,3), np.uint8)\n",
        "  for ch in word:\n",
        "    if ch == ' ':\n",
        "      img = cv2.imread(path+'/space.png')\n",
        "      img = cv2.resize(img,(36,36))\n",
        "      result_img = cv2.hconcat([result_img,img])\n",
        "    elif ch == '!':\n",
        "      img = cv2.imread(path+'/exclamation_point.png')\n",
        "      img = cv2.resize(img,(36,36))\n",
        "      result_img = cv2.hconcat([result_img,img])\n",
        "    elif ch == ',':\n",
        "      img = cv2.imread(path+'/comma.png')\n",
        "      img = cv2.resize(img,(36,36))\n",
        "      result_img = cv2.hconcat([result_img,img])\n",
        "    elif ch == '.':\n",
        "      img = cv2.imread(path+'/period.png')\n",
        "      img = cv2.resize(img,(36,36))\n",
        "      result_img = cv2.hconcat([result_img,img])\n",
        "    elif ch == '?':\n",
        "      img = cv2.imread(path+'/question_mark.png')\n",
        "      img = cv2.resize(img,(36,36))\n",
        "      result_img = cv2.hconcat([result_img,img])\n",
        "    else:\n",
        "      if word.find(ch) == 0:\n",
        "        if ch.isupper():\n",
        "          result_img = cv2.imread(path+'/upper.png')\n",
        "          result_img = cv2.resize(result_img,(36,36))\n",
        "          ch = ch.lower()\n",
        "          img = cv2.imread(path+'/'+ ch +'.png')\n",
        "          img = cv2.resize(img,(36,36))\n",
        "          result_img = cv2.hconcat([result_img,img])\n",
        "        else:\n",
        "          result_img = cv2.imread(path+'/'+ ch +'.png')\n",
        "          result_img = cv2.resize(result_img,(36,36))\n",
        "      else:\n",
        "        if ch.isupper():\n",
        "          print(ch)\n",
        "          img = cv2.imread(path+'/upper.png')\n",
        "          img = cv2.resize(img,(36,36))\n",
        "          result_img = cv2.hconcat([result_img,img])\n",
        "          ch = ch.lower()\n",
        "          img = cv2.imread(path+'/'+ ch +'.png')\n",
        "          img = cv2.resize(img,(36,36))\n",
        "          result_img = cv2.hconcat([result_img,img])\n",
        "        else:\n",
        "          img = cv2.imread(path+'/'+ ch +'.png')\n",
        "          img = cv2.resize(img,(36,36))\n",
        "          result_img = cv2.hconcat([result_img,img])\n",
        "  cv2.imwrite(store_path+'/'+word+'.png', result_img)\n",
        "make_test('Welcome to AI class!')"
      ],
      "metadata": {
        "colab": {
          "base_uri": "https://localhost:8080/"
        },
        "id": "XodlpWdzjNJu",
        "outputId": "73671f50-e159-47dd-9139-e4b84215f0cf"
      },
      "id": "XodlpWdzjNJu",
      "execution_count": 58,
      "outputs": [
        {
          "output_type": "stream",
          "name": "stdout",
          "text": [
            "A\n",
            "I\n"
          ]
        }
      ]
    },
    {
      "cell_type": "markdown",
      "source": [
        "\n",
        "# **5.3  Translate Sentence**"
      ],
      "metadata": {
        "id": "-cq9ZvZC93rq"
      },
      "id": "-cq9ZvZC93rq"
    },
    {
      "cell_type": "code",
      "source": [
        "from PIL import Image\n",
        "import os\n",
        "\n",
        "def devide_img(fileName):\n",
        "  path = '/content/drive/MyDrive/AI_TeamProject/AI-teamProject-brailleTranslation/testset/'\n",
        "  dir = os.listdir('/content/drive/MyDrive/AI_TeamProject/AI-teamProject-brailleTranslation/dataset')\n",
        "  tmp = []\n",
        "  for file in dir:\n",
        "    if(os.path.splitext(file)[1] == '.png'):\n",
        "      tmp.append(file.split('.')[0])\n",
        "      dir = tmp\n",
        "      dir.sort()\n",
        "  img = Image.open(path+fileName)\n",
        "  (width,height) = img.size\n",
        "  print(width, height)\n",
        "  iterate_num = width // height\n",
        "  iterate_num = int(iterate_num)\n",
        "  start_point = 0\n",
        "  size = height\n",
        "  end_point = height\n",
        "  text = ''\n",
        "\n",
        "  special_character_dir = {'space': ' ', 'exclamation_point': '!', 'comma': ',', 'period':'.', \n",
        "                           'question_mark': '?'}\n",
        "  keyList = special_character_dir.keys()\n",
        "  translated_sentence = ''\n",
        "  isUpper = False\n",
        "  for i in range(0, iterate_num):\n",
        "    area = (start_point, 0, end_point, height)\n",
        "    cropped_img = img.crop(area)\n",
        "    result = translate(convert_test_img(cropped_img))\n",
        "    start_point = end_point\n",
        "    end_point += size\n",
        "    if result == 'upper':\n",
        "      isUpper = True\n",
        "      continue\n",
        "    if isUpper == True:\n",
        "      result = result.upper()\n",
        "      isUpper = False\n",
        "    if result in keyList:\n",
        "      result = special_character_dir[result]\n",
        "    print(result)\n",
        "    translated_sentence += result\n",
        "\n",
        "  return translated_sentence\n",
        "result = devide_img('Welcome to AI class!.png')"
      ],
      "metadata": {
        "colab": {
          "base_uri": "https://localhost:8080/"
        },
        "id": "CIWrNgdREIM9",
        "outputId": "c4fc6f02-172e-41ba-e70d-c60ab787754e"
      },
      "id": "CIWrNgdREIM9",
      "execution_count": 59,
      "outputs": [
        {
          "output_type": "stream",
          "name": "stdout",
          "text": [
            "828 36\n",
            "['a', 'b', 'c', 'comma', 'd', 'e', 'exclamation_point', 'f', 'g', 'h', 'i', 'j', 'k', 'l', 'm', 'n', 'o', 'p', 'period', 'q', 'question_mark', 'r', 's', 'space', 't', 'u', 'upper', 'v', 'w', 'x', 'y', 'z']\n",
            "1/1 [==============================] - 0s 85ms/step\n",
            "['a', 'b', 'c', 'comma', 'd', 'e', 'exclamation_point', 'f', 'g', 'h', 'i', 'j', 'k', 'l', 'm', 'n', 'o', 'p', 'period', 'q', 'question_mark', 'r', 's', 'space', 't', 'u', 'upper', 'v', 'w', 'x', 'y', 'z']\n",
            "1/1 [==============================] - 0s 85ms/step\n",
            "W\n",
            "['a', 'b', 'c', 'comma', 'd', 'e', 'exclamation_point', 'f', 'g', 'h', 'i', 'j', 'k', 'l', 'm', 'n', 'o', 'p', 'period', 'q', 'question_mark', 'r', 's', 'space', 't', 'u', 'upper', 'v', 'w', 'x', 'y', 'z']\n",
            "1/1 [==============================] - 0s 83ms/step\n",
            "e\n",
            "['a', 'b', 'c', 'comma', 'd', 'e', 'exclamation_point', 'f', 'g', 'h', 'i', 'j', 'k', 'l', 'm', 'n', 'o', 'p', 'period', 'q', 'question_mark', 'r', 's', 'space', 't', 'u', 'upper', 'v', 'w', 'x', 'y', 'z']\n",
            "1/1 [==============================] - 0s 85ms/step\n",
            "l\n",
            "['a', 'b', 'c', 'comma', 'd', 'e', 'exclamation_point', 'f', 'g', 'h', 'i', 'j', 'k', 'l', 'm', 'n', 'o', 'p', 'period', 'q', 'question_mark', 'r', 's', 'space', 't', 'u', 'upper', 'v', 'w', 'x', 'y', 'z']\n",
            "1/1 [==============================] - 0s 88ms/step\n",
            "c\n",
            "['a', 'b', 'c', 'comma', 'd', 'e', 'exclamation_point', 'f', 'g', 'h', 'i', 'j', 'k', 'l', 'm', 'n', 'o', 'p', 'period', 'q', 'question_mark', 'r', 's', 'space', 't', 'u', 'upper', 'v', 'w', 'x', 'y', 'z']\n",
            "1/1 [==============================] - 0s 86ms/step\n",
            "o\n",
            "['a', 'b', 'c', 'comma', 'd', 'e', 'exclamation_point', 'f', 'g', 'h', 'i', 'j', 'k', 'l', 'm', 'n', 'o', 'p', 'period', 'q', 'question_mark', 'r', 's', 'space', 't', 'u', 'upper', 'v', 'w', 'x', 'y', 'z']\n",
            "1/1 [==============================] - 0s 85ms/step\n",
            "m\n",
            "['a', 'b', 'c', 'comma', 'd', 'e', 'exclamation_point', 'f', 'g', 'h', 'i', 'j', 'k', 'l', 'm', 'n', 'o', 'p', 'period', 'q', 'question_mark', 'r', 's', 'space', 't', 'u', 'upper', 'v', 'w', 'x', 'y', 'z']\n",
            "1/1 [==============================] - 0s 97ms/step\n",
            "e\n",
            "['a', 'b', 'c', 'comma', 'd', 'e', 'exclamation_point', 'f', 'g', 'h', 'i', 'j', 'k', 'l', 'm', 'n', 'o', 'p', 'period', 'q', 'question_mark', 'r', 's', 'space', 't', 'u', 'upper', 'v', 'w', 'x', 'y', 'z']\n",
            "1/1 [==============================] - 0s 88ms/step\n",
            " \n",
            "['a', 'b', 'c', 'comma', 'd', 'e', 'exclamation_point', 'f', 'g', 'h', 'i', 'j', 'k', 'l', 'm', 'n', 'o', 'p', 'period', 'q', 'question_mark', 'r', 's', 'space', 't', 'u', 'upper', 'v', 'w', 'x', 'y', 'z']\n",
            "1/1 [==============================] - 0s 92ms/step\n",
            "t\n",
            "['a', 'b', 'c', 'comma', 'd', 'e', 'exclamation_point', 'f', 'g', 'h', 'i', 'j', 'k', 'l', 'm', 'n', 'o', 'p', 'period', 'q', 'question_mark', 'r', 's', 'space', 't', 'u', 'upper', 'v', 'w', 'x', 'y', 'z']\n",
            "1/1 [==============================] - 0s 98ms/step\n",
            "o\n",
            "['a', 'b', 'c', 'comma', 'd', 'e', 'exclamation_point', 'f', 'g', 'h', 'i', 'j', 'k', 'l', 'm', 'n', 'o', 'p', 'period', 'q', 'question_mark', 'r', 's', 'space', 't', 'u', 'upper', 'v', 'w', 'x', 'y', 'z']\n",
            "1/1 [==============================] - 0s 88ms/step\n",
            " \n",
            "['a', 'b', 'c', 'comma', 'd', 'e', 'exclamation_point', 'f', 'g', 'h', 'i', 'j', 'k', 'l', 'm', 'n', 'o', 'p', 'period', 'q', 'question_mark', 'r', 's', 'space', 't', 'u', 'upper', 'v', 'w', 'x', 'y', 'z']\n",
            "1/1 [==============================] - 0s 85ms/step\n",
            "['a', 'b', 'c', 'comma', 'd', 'e', 'exclamation_point', 'f', 'g', 'h', 'i', 'j', 'k', 'l', 'm', 'n', 'o', 'p', 'period', 'q', 'question_mark', 'r', 's', 'space', 't', 'u', 'upper', 'v', 'w', 'x', 'y', 'z']\n",
            "1/1 [==============================] - 0s 110ms/step\n",
            "A\n",
            "['a', 'b', 'c', 'comma', 'd', 'e', 'exclamation_point', 'f', 'g', 'h', 'i', 'j', 'k', 'l', 'm', 'n', 'o', 'p', 'period', 'q', 'question_mark', 'r', 's', 'space', 't', 'u', 'upper', 'v', 'w', 'x', 'y', 'z']\n",
            "1/1 [==============================] - 0s 85ms/step\n",
            "['a', 'b', 'c', 'comma', 'd', 'e', 'exclamation_point', 'f', 'g', 'h', 'i', 'j', 'k', 'l', 'm', 'n', 'o', 'p', 'period', 'q', 'question_mark', 'r', 's', 'space', 't', 'u', 'upper', 'v', 'w', 'x', 'y', 'z']\n",
            "1/1 [==============================] - 0s 86ms/step\n",
            "I\n",
            "['a', 'b', 'c', 'comma', 'd', 'e', 'exclamation_point', 'f', 'g', 'h', 'i', 'j', 'k', 'l', 'm', 'n', 'o', 'p', 'period', 'q', 'question_mark', 'r', 's', 'space', 't', 'u', 'upper', 'v', 'w', 'x', 'y', 'z']\n",
            "1/1 [==============================] - 0s 93ms/step\n",
            " \n",
            "['a', 'b', 'c', 'comma', 'd', 'e', 'exclamation_point', 'f', 'g', 'h', 'i', 'j', 'k', 'l', 'm', 'n', 'o', 'p', 'period', 'q', 'question_mark', 'r', 's', 'space', 't', 'u', 'upper', 'v', 'w', 'x', 'y', 'z']\n",
            "1/1 [==============================] - 0s 86ms/step\n",
            "c\n",
            "['a', 'b', 'c', 'comma', 'd', 'e', 'exclamation_point', 'f', 'g', 'h', 'i', 'j', 'k', 'l', 'm', 'n', 'o', 'p', 'period', 'q', 'question_mark', 'r', 's', 'space', 't', 'u', 'upper', 'v', 'w', 'x', 'y', 'z']\n",
            "1/1 [==============================] - 0s 86ms/step\n",
            "l\n",
            "['a', 'b', 'c', 'comma', 'd', 'e', 'exclamation_point', 'f', 'g', 'h', 'i', 'j', 'k', 'l', 'm', 'n', 'o', 'p', 'period', 'q', 'question_mark', 'r', 's', 'space', 't', 'u', 'upper', 'v', 'w', 'x', 'y', 'z']\n",
            "1/1 [==============================] - 0s 85ms/step\n",
            "a\n",
            "['a', 'b', 'c', 'comma', 'd', 'e', 'exclamation_point', 'f', 'g', 'h', 'i', 'j', 'k', 'l', 'm', 'n', 'o', 'p', 'period', 'q', 'question_mark', 'r', 's', 'space', 't', 'u', 'upper', 'v', 'w', 'x', 'y', 'z']\n",
            "1/1 [==============================] - 0s 83ms/step\n",
            "s\n",
            "['a', 'b', 'c', 'comma', 'd', 'e', 'exclamation_point', 'f', 'g', 'h', 'i', 'j', 'k', 'l', 'm', 'n', 'o', 'p', 'period', 'q', 'question_mark', 'r', 's', 'space', 't', 'u', 'upper', 'v', 'w', 'x', 'y', 'z']\n",
            "1/1 [==============================] - 0s 81ms/step\n",
            "s\n",
            "['a', 'b', 'c', 'comma', 'd', 'e', 'exclamation_point', 'f', 'g', 'h', 'i', 'j', 'k', 'l', 'm', 'n', 'o', 'p', 'period', 'q', 'question_mark', 'r', 's', 'space', 't', 'u', 'upper', 'v', 'w', 'x', 'y', 'z']\n",
            "1/1 [==============================] - 0s 83ms/step\n",
            "!\n"
          ]
        }
      ]
    },
    {
      "cell_type": "code",
      "source": [
        "result"
      ],
      "metadata": {
        "id": "mSvmv92TEWUL",
        "colab": {
          "base_uri": "https://localhost:8080/",
          "height": 36
        },
        "outputId": "8323dd19-78da-4f03-cbd1-819511116618"
      },
      "id": "mSvmv92TEWUL",
      "execution_count": 60,
      "outputs": [
        {
          "output_type": "execute_result",
          "data": {
            "text/plain": [
              "'Welcome to AI class!'"
            ],
            "application/vnd.google.colaboratory.intrinsic+json": {
              "type": "string"
            }
          },
          "metadata": {},
          "execution_count": 60
        }
      ]
    }
  ],
  "metadata": {
    "kernelspec": {
      "display_name": "Python 3 (ipykernel)",
      "language": "python",
      "name": "python3"
    },
    "language_info": {
      "codemirror_mode": {
        "name": "ipython",
        "version": 3
      },
      "file_extension": ".py",
      "mimetype": "text/x-python",
      "name": "python",
      "nbconvert_exporter": "python",
      "pygments_lexer": "ipython3",
      "version": "3.10.7"
    },
    "colab": {
      "provenance": [],
      "collapsed_sections": [
        "Rgt0rdJzzD5E"
      ],
      "include_colab_link": true
    },
    "accelerator": "GPU",
    "gpuClass": "standard"
  },
  "nbformat": 4,
  "nbformat_minor": 5
}